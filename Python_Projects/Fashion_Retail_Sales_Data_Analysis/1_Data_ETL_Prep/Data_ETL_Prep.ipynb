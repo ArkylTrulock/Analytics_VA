{
 "cells": [
  {
   "cell_type": "markdown",
   "metadata": {},
   "source": [
    "# `Imported Libraries`."
   ]
  },
  {
   "cell_type": "code",
   "execution_count": 1,
   "metadata": {},
   "outputs": [],
   "source": [
    "import os\n",
    "import io\n",
    "import glob\n",
    "import pandas as pd\n",
    "import numpy as np\n",
    "import seaborn as sns\n",
    "import plotly.express as px\n",
    "import matplotlib.pyplot as plt\n",
    "import matplotlib.ticker as ticker\n",
    "import matplotlib.ticker as tkr\n",
    "import psycopg2\n",
    "import xlsxwriter\n",
    "import scipy.stats\n",
    "import dataframe_image as dfi\n",
    "import warnings\n",
    "\n",
    "#==#\n",
    "\n",
    "from io import BytesIO\n",
    "from numpy import mean, absolute\n",
    "from numpy import median, absolute\n",
    "from sqlalchemy import create_engine\n",
    "from matplotlib.ticker import FormatStrFormatter, StrMethodFormatter\n",
    "from matplotlib.ticker import (MultipleLocator, AutoMinorLocator)\n",
    "from matplotlib.ticker import FuncFormatter\n",
    "from matplotlib import font_manager\n",
    "from matplotlib import colormaps\n",
    "from matplotlib.backends.backend_pdf import PdfPages\n",
    "from matplotlib.cbook import boxplot_stats\n",
    "from pandas.io.formats.style import Styler\n",
    "from pandas.io.formats.excel import ExcelFormatter\n",
    "from openpyxl import Workbook\n",
    "from scipy import stats\n",
    "from scipy.stats import norm # Normalization of data\n",
    "from scipy.stats import trim_mean\n",
    "from statistics import variance\n",
    "from statistics import stdev\n",
    "from sklearn.preprocessing import StandardScaler # Standardize data\n",
    "from fpdf import FPDF\n",
    "from PIL import Image\n",
    "from IPython.display import HTML, display\n",
    "from sklearn.linear_model import LinearRegression # Involves solving a system of linear equations\n",
    "\n",
    "#==#\n",
    "\n",
    "#pd.options.display.max_columns = 100\n",
    "pd.set_option('display.max_columns', 100)\n",
    "%matplotlib inline"
   ]
  },
  {
   "cell_type": "markdown",
   "metadata": {},
   "source": [
    "# `Load Dataframe`."
   ]
  },
  {
   "cell_type": "markdown",
   "metadata": {},
   "source": [
    "#### `As Excel`."
   ]
  },
  {
   "cell_type": "code",
   "execution_count": 2,
   "metadata": {},
   "outputs": [],
   "source": [
    "# file_path = r\"\\Users\\tailb\\Downloads\\X.xlsx\"\n",
    "# sales = pd.read_excel(file_path)\n",
    "# df = sales.copy()\n",
    "# df.head(3)"
   ]
  },
  {
   "cell_type": "markdown",
   "metadata": {},
   "source": [
    "#### `As CSV`."
   ]
  },
  {
   "cell_type": "code",
   "execution_count": 3,
   "metadata": {},
   "outputs": [
    {
     "data": {
      "text/html": [
       "<div>\n",
       "<style scoped>\n",
       "    .dataframe tbody tr th:only-of-type {\n",
       "        vertical-align: middle;\n",
       "    }\n",
       "\n",
       "    .dataframe tbody tr th {\n",
       "        vertical-align: top;\n",
       "    }\n",
       "\n",
       "    .dataframe thead th {\n",
       "        text-align: right;\n",
       "    }\n",
       "</style>\n",
       "<table border=\"1\" class=\"dataframe\">\n",
       "  <thead>\n",
       "    <tr style=\"text-align: right;\">\n",
       "      <th></th>\n",
       "      <th>Customer Reference ID</th>\n",
       "      <th>Item Purchased</th>\n",
       "      <th>Purchase Amount (USD)</th>\n",
       "      <th>Date Purchase</th>\n",
       "      <th>Review Rating</th>\n",
       "      <th>Payment Method</th>\n",
       "    </tr>\n",
       "  </thead>\n",
       "  <tbody>\n",
       "    <tr>\n",
       "      <th>0</th>\n",
       "      <td>4018</td>\n",
       "      <td>Handbag</td>\n",
       "      <td>4619.0</td>\n",
       "      <td>05-02-2023</td>\n",
       "      <td>NaN</td>\n",
       "      <td>Credit Card</td>\n",
       "    </tr>\n",
       "    <tr>\n",
       "      <th>1</th>\n",
       "      <td>4115</td>\n",
       "      <td>Tunic</td>\n",
       "      <td>2456.0</td>\n",
       "      <td>11-07-2023</td>\n",
       "      <td>2.0</td>\n",
       "      <td>Credit Card</td>\n",
       "    </tr>\n",
       "    <tr>\n",
       "      <th>2</th>\n",
       "      <td>4019</td>\n",
       "      <td>Tank Top</td>\n",
       "      <td>2102.0</td>\n",
       "      <td>23-03-2023</td>\n",
       "      <td>4.1</td>\n",
       "      <td>Cash</td>\n",
       "    </tr>\n",
       "  </tbody>\n",
       "</table>\n",
       "</div>"
      ],
      "text/plain": [
       "   Customer Reference ID Item Purchased  Purchase Amount (USD) Date Purchase  \\\n",
       "0                   4018        Handbag                 4619.0    05-02-2023   \n",
       "1                   4115          Tunic                 2456.0    11-07-2023   \n",
       "2                   4019       Tank Top                 2102.0    23-03-2023   \n",
       "\n",
       "   Review Rating Payment Method  \n",
       "0            NaN    Credit Card  \n",
       "1            2.0    Credit Card  \n",
       "2            4.1           Cash  "
      ]
     },
     "execution_count": 3,
     "metadata": {},
     "output_type": "execute_result"
    }
   ],
   "source": [
    "file_path = r\"\\Users\\tailb\\Downloads\\Fashion_Retail_Sales.csv\"\n",
    "sales = pd.read_csv(file_path)\n",
    "df = sales.copy()\n",
    "df.head(3)"
   ]
  },
  {
   "cell_type": "markdown",
   "metadata": {},
   "source": [
    "# `Analyse Dataframe`."
   ]
  },
  {
   "cell_type": "markdown",
   "metadata": {},
   "source": [
    "#### 1.`Display dataframe numeric statistics`"
   ]
  },
  {
   "cell_type": "code",
   "execution_count": 4,
   "metadata": {},
   "outputs": [
    {
     "data": {
      "text/html": [
       "<div>\n",
       "<style scoped>\n",
       "    .dataframe tbody tr th:only-of-type {\n",
       "        vertical-align: middle;\n",
       "    }\n",
       "\n",
       "    .dataframe tbody tr th {\n",
       "        vertical-align: top;\n",
       "    }\n",
       "\n",
       "    .dataframe thead th {\n",
       "        text-align: right;\n",
       "    }\n",
       "</style>\n",
       "<table border=\"1\" class=\"dataframe\">\n",
       "  <thead>\n",
       "    <tr style=\"text-align: right;\">\n",
       "      <th></th>\n",
       "      <th>Customer Reference ID</th>\n",
       "      <th>Purchase Amount (USD)</th>\n",
       "      <th>Review Rating</th>\n",
       "    </tr>\n",
       "  </thead>\n",
       "  <tbody>\n",
       "    <tr>\n",
       "      <th>count</th>\n",
       "      <td>3400.000000</td>\n",
       "      <td>2750.000000</td>\n",
       "      <td>3076.000000</td>\n",
       "    </tr>\n",
       "    <tr>\n",
       "      <th>mean</th>\n",
       "      <td>4039.660588</td>\n",
       "      <td>156.709818</td>\n",
       "      <td>2.999057</td>\n",
       "    </tr>\n",
       "    <tr>\n",
       "      <th>std</th>\n",
       "      <td>48.122583</td>\n",
       "      <td>419.536669</td>\n",
       "      <td>1.156505</td>\n",
       "    </tr>\n",
       "    <tr>\n",
       "      <th>min</th>\n",
       "      <td>3957.000000</td>\n",
       "      <td>10.000000</td>\n",
       "      <td>1.000000</td>\n",
       "    </tr>\n",
       "    <tr>\n",
       "      <th>25%</th>\n",
       "      <td>3997.000000</td>\n",
       "      <td>57.000000</td>\n",
       "      <td>2.000000</td>\n",
       "    </tr>\n",
       "    <tr>\n",
       "      <th>50%</th>\n",
       "      <td>4040.000000</td>\n",
       "      <td>110.000000</td>\n",
       "      <td>3.000000</td>\n",
       "    </tr>\n",
       "    <tr>\n",
       "      <th>75%</th>\n",
       "      <td>4081.000000</td>\n",
       "      <td>155.750000</td>\n",
       "      <td>4.000000</td>\n",
       "    </tr>\n",
       "    <tr>\n",
       "      <th>max</th>\n",
       "      <td>4122.000000</td>\n",
       "      <td>4932.000000</td>\n",
       "      <td>5.000000</td>\n",
       "    </tr>\n",
       "  </tbody>\n",
       "</table>\n",
       "</div>"
      ],
      "text/plain": [
       "       Customer Reference ID  Purchase Amount (USD)  Review Rating\n",
       "count            3400.000000            2750.000000    3076.000000\n",
       "mean             4039.660588             156.709818       2.999057\n",
       "std                48.122583             419.536669       1.156505\n",
       "min              3957.000000              10.000000       1.000000\n",
       "25%              3997.000000              57.000000       2.000000\n",
       "50%              4040.000000             110.000000       3.000000\n",
       "75%              4081.000000             155.750000       4.000000\n",
       "max              4122.000000            4932.000000       5.000000"
      ]
     },
     "execution_count": 4,
     "metadata": {},
     "output_type": "execute_result"
    }
   ],
   "source": [
    "df.describe()"
   ]
  },
  {
   "cell_type": "markdown",
   "metadata": {},
   "source": [
    "#### 2.`Display dataframe non-numeric statistics`"
   ]
  },
  {
   "cell_type": "code",
   "execution_count": 5,
   "metadata": {},
   "outputs": [
    {
     "data": {
      "text/html": [
       "<div>\n",
       "<style scoped>\n",
       "    .dataframe tbody tr th:only-of-type {\n",
       "        vertical-align: middle;\n",
       "    }\n",
       "\n",
       "    .dataframe tbody tr th {\n",
       "        vertical-align: top;\n",
       "    }\n",
       "\n",
       "    .dataframe thead th {\n",
       "        text-align: right;\n",
       "    }\n",
       "</style>\n",
       "<table border=\"1\" class=\"dataframe\">\n",
       "  <thead>\n",
       "    <tr style=\"text-align: right;\">\n",
       "      <th></th>\n",
       "      <th>Item Purchased</th>\n",
       "      <th>Date Purchase</th>\n",
       "      <th>Payment Method</th>\n",
       "    </tr>\n",
       "  </thead>\n",
       "  <tbody>\n",
       "    <tr>\n",
       "      <th>count</th>\n",
       "      <td>3400</td>\n",
       "      <td>3400</td>\n",
       "      <td>3400</td>\n",
       "    </tr>\n",
       "    <tr>\n",
       "      <th>unique</th>\n",
       "      <td>50</td>\n",
       "      <td>365</td>\n",
       "      <td>2</td>\n",
       "    </tr>\n",
       "    <tr>\n",
       "      <th>top</th>\n",
       "      <td>Belt</td>\n",
       "      <td>22-09-2023</td>\n",
       "      <td>Credit Card</td>\n",
       "    </tr>\n",
       "    <tr>\n",
       "      <th>freq</th>\n",
       "      <td>90</td>\n",
       "      <td>17</td>\n",
       "      <td>1770</td>\n",
       "    </tr>\n",
       "  </tbody>\n",
       "</table>\n",
       "</div>"
      ],
      "text/plain": [
       "       Item Purchased Date Purchase Payment Method\n",
       "count            3400          3400           3400\n",
       "unique             50           365              2\n",
       "top              Belt    22-09-2023    Credit Card\n",
       "freq               90            17           1770"
      ]
     },
     "execution_count": 5,
     "metadata": {},
     "output_type": "execute_result"
    }
   ],
   "source": [
    "df.describe(include=object)"
   ]
  },
  {
   "cell_type": "markdown",
   "metadata": {},
   "source": [
    "#### 3.`Display index`."
   ]
  },
  {
   "cell_type": "code",
   "execution_count": 6,
   "metadata": {},
   "outputs": [
    {
     "data": {
      "text/plain": [
       "RangeIndex(start=0, stop=3400, step=1)"
      ]
     },
     "execution_count": 6,
     "metadata": {},
     "output_type": "execute_result"
    }
   ],
   "source": [
    "df.index"
   ]
  },
  {
   "cell_type": "markdown",
   "metadata": {},
   "source": [
    "#### 4.`Display number of rows and columns`."
   ]
  },
  {
   "cell_type": "code",
   "execution_count": 7,
   "metadata": {},
   "outputs": [
    {
     "data": {
      "text/plain": [
       "(3400, 6)"
      ]
     },
     "execution_count": 7,
     "metadata": {},
     "output_type": "execute_result"
    }
   ],
   "source": [
    "df.shape"
   ]
  },
  {
   "cell_type": "markdown",
   "metadata": {},
   "source": [
    "#### 5.`Display the number of rows times number of columns`."
   ]
  },
  {
   "cell_type": "code",
   "execution_count": 8,
   "metadata": {},
   "outputs": [
    {
     "data": {
      "text/plain": [
       "20400"
      ]
     },
     "execution_count": 8,
     "metadata": {},
     "output_type": "execute_result"
    }
   ],
   "source": [
    "df.size"
   ]
  },
  {
   "cell_type": "markdown",
   "metadata": {},
   "source": [
    "#### 6.`Display information about dataset`."
   ]
  },
  {
   "cell_type": "code",
   "execution_count": 9,
   "metadata": {},
   "outputs": [
    {
     "name": "stdout",
     "output_type": "stream",
     "text": [
      "<class 'pandas.core.frame.DataFrame'>\n",
      "RangeIndex: 3400 entries, 0 to 3399\n",
      "Data columns (total 6 columns):\n",
      " #   Column                 Non-Null Count  Dtype  \n",
      "---  ------                 --------------  -----  \n",
      " 0   Customer Reference ID  3400 non-null   int64  \n",
      " 1   Item Purchased         3400 non-null   object \n",
      " 2   Purchase Amount (USD)  2750 non-null   float64\n",
      " 3   Date Purchase          3400 non-null   object \n",
      " 4   Review Rating          3076 non-null   float64\n",
      " 5   Payment Method         3400 non-null   object \n",
      "dtypes: float64(2), int64(1), object(3)\n",
      "memory usage: 159.5+ KB\n"
     ]
    }
   ],
   "source": [
    "df.info()"
   ]
  },
  {
   "cell_type": "markdown",
   "metadata": {},
   "source": [
    "#### 7.`Display the first 5 rows from our dataset`."
   ]
  },
  {
   "cell_type": "code",
   "execution_count": 10,
   "metadata": {},
   "outputs": [
    {
     "data": {
      "text/html": [
       "<div>\n",
       "<style scoped>\n",
       "    .dataframe tbody tr th:only-of-type {\n",
       "        vertical-align: middle;\n",
       "    }\n",
       "\n",
       "    .dataframe tbody tr th {\n",
       "        vertical-align: top;\n",
       "    }\n",
       "\n",
       "    .dataframe thead th {\n",
       "        text-align: right;\n",
       "    }\n",
       "</style>\n",
       "<table border=\"1\" class=\"dataframe\">\n",
       "  <thead>\n",
       "    <tr style=\"text-align: right;\">\n",
       "      <th></th>\n",
       "      <th>Customer Reference ID</th>\n",
       "      <th>Item Purchased</th>\n",
       "      <th>Purchase Amount (USD)</th>\n",
       "      <th>Date Purchase</th>\n",
       "      <th>Review Rating</th>\n",
       "      <th>Payment Method</th>\n",
       "    </tr>\n",
       "  </thead>\n",
       "  <tbody>\n",
       "    <tr>\n",
       "      <th>0</th>\n",
       "      <td>4018</td>\n",
       "      <td>Handbag</td>\n",
       "      <td>4619.0</td>\n",
       "      <td>05-02-2023</td>\n",
       "      <td>NaN</td>\n",
       "      <td>Credit Card</td>\n",
       "    </tr>\n",
       "    <tr>\n",
       "      <th>1</th>\n",
       "      <td>4115</td>\n",
       "      <td>Tunic</td>\n",
       "      <td>2456.0</td>\n",
       "      <td>11-07-2023</td>\n",
       "      <td>2.0</td>\n",
       "      <td>Credit Card</td>\n",
       "    </tr>\n",
       "    <tr>\n",
       "      <th>2</th>\n",
       "      <td>4019</td>\n",
       "      <td>Tank Top</td>\n",
       "      <td>2102.0</td>\n",
       "      <td>23-03-2023</td>\n",
       "      <td>4.1</td>\n",
       "      <td>Cash</td>\n",
       "    </tr>\n",
       "    <tr>\n",
       "      <th>3</th>\n",
       "      <td>4097</td>\n",
       "      <td>Leggings</td>\n",
       "      <td>3126.0</td>\n",
       "      <td>15-03-2023</td>\n",
       "      <td>3.2</td>\n",
       "      <td>Cash</td>\n",
       "    </tr>\n",
       "    <tr>\n",
       "      <th>4</th>\n",
       "      <td>3997</td>\n",
       "      <td>Wallet</td>\n",
       "      <td>3003.0</td>\n",
       "      <td>27-11-2022</td>\n",
       "      <td>4.7</td>\n",
       "      <td>Cash</td>\n",
       "    </tr>\n",
       "  </tbody>\n",
       "</table>\n",
       "</div>"
      ],
      "text/plain": [
       "   Customer Reference ID Item Purchased  Purchase Amount (USD) Date Purchase  \\\n",
       "0                   4018        Handbag                 4619.0    05-02-2023   \n",
       "1                   4115          Tunic                 2456.0    11-07-2023   \n",
       "2                   4019       Tank Top                 2102.0    23-03-2023   \n",
       "3                   4097       Leggings                 3126.0    15-03-2023   \n",
       "4                   3997         Wallet                 3003.0    27-11-2022   \n",
       "\n",
       "   Review Rating Payment Method  \n",
       "0            NaN    Credit Card  \n",
       "1            2.0    Credit Card  \n",
       "2            4.1           Cash  \n",
       "3            3.2           Cash  \n",
       "4            4.7           Cash  "
      ]
     },
     "execution_count": 10,
     "metadata": {},
     "output_type": "execute_result"
    }
   ],
   "source": [
    "df.head(5)"
   ]
  },
  {
   "cell_type": "markdown",
   "metadata": {},
   "source": [
    "#### 8.` Clean column headings`."
   ]
  },
  {
   "cell_type": "code",
   "execution_count": 11,
   "metadata": {},
   "outputs": [
    {
     "data": {
      "text/html": [
       "<div>\n",
       "<style scoped>\n",
       "    .dataframe tbody tr th:only-of-type {\n",
       "        vertical-align: middle;\n",
       "    }\n",
       "\n",
       "    .dataframe tbody tr th {\n",
       "        vertical-align: top;\n",
       "    }\n",
       "\n",
       "    .dataframe thead th {\n",
       "        text-align: right;\n",
       "    }\n",
       "</style>\n",
       "<table border=\"1\" class=\"dataframe\">\n",
       "  <thead>\n",
       "    <tr style=\"text-align: right;\">\n",
       "      <th></th>\n",
       "      <th>customer_reference_id</th>\n",
       "      <th>item_purchased</th>\n",
       "      <th>purchase_amount_(usd)</th>\n",
       "      <th>date_purchase</th>\n",
       "      <th>review_rating</th>\n",
       "      <th>payment_method</th>\n",
       "    </tr>\n",
       "  </thead>\n",
       "  <tbody>\n",
       "    <tr>\n",
       "      <th>0</th>\n",
       "      <td>4018</td>\n",
       "      <td>Handbag</td>\n",
       "      <td>4619.0</td>\n",
       "      <td>05-02-2023</td>\n",
       "      <td>NaN</td>\n",
       "      <td>Credit Card</td>\n",
       "    </tr>\n",
       "    <tr>\n",
       "      <th>1</th>\n",
       "      <td>4115</td>\n",
       "      <td>Tunic</td>\n",
       "      <td>2456.0</td>\n",
       "      <td>11-07-2023</td>\n",
       "      <td>2.0</td>\n",
       "      <td>Credit Card</td>\n",
       "    </tr>\n",
       "    <tr>\n",
       "      <th>2</th>\n",
       "      <td>4019</td>\n",
       "      <td>Tank Top</td>\n",
       "      <td>2102.0</td>\n",
       "      <td>23-03-2023</td>\n",
       "      <td>4.1</td>\n",
       "      <td>Cash</td>\n",
       "    </tr>\n",
       "  </tbody>\n",
       "</table>\n",
       "</div>"
      ],
      "text/plain": [
       "   customer_reference_id item_purchased  purchase_amount_(usd) date_purchase  \\\n",
       "0                   4018        Handbag                 4619.0    05-02-2023   \n",
       "1                   4115          Tunic                 2456.0    11-07-2023   \n",
       "2                   4019       Tank Top                 2102.0    23-03-2023   \n",
       "\n",
       "   review_rating payment_method  \n",
       "0            NaN    Credit Card  \n",
       "1            2.0    Credit Card  \n",
       "2            4.1           Cash  "
      ]
     },
     "execution_count": 11,
     "metadata": {},
     "output_type": "execute_result"
    }
   ],
   "source": [
    "# Extract columns\n",
    "cols = df.columns\n",
    "# Create empty list\n",
    "new_cols = []\n",
    "# Iterate to fix issues with names\n",
    "for column in cols:\n",
    "    # #  To proper case\n",
    "    # proper_cols = column.title()\n",
    "    # To lower case\n",
    "    lower_cols = column.lower()\n",
    "    # Replace space/hyphen with underscore\n",
    "    proper_cols_hyphen = lower_cols.replace(\" \", \"_\")\n",
    "    clean_col = proper_cols_hyphen.replace(\"-\", \"_\")\n",
    "    # Append to empty list\n",
    "    new_cols.append(clean_col)\n",
    "# Diplay columns\n",
    "new_cols\n",
    "\n",
    "# Replace existing columns in dataframe with new\n",
    "df.columns = new_cols\n",
    "\n",
    "# Preview\n",
    "df.head(3)"
   ]
  },
  {
   "cell_type": "markdown",
   "metadata": {},
   "source": [
    "#### 9.`Display a sample of 5 rows from our dataset`."
   ]
  },
  {
   "cell_type": "code",
   "execution_count": 12,
   "metadata": {},
   "outputs": [
    {
     "data": {
      "text/html": [
       "<div>\n",
       "<style scoped>\n",
       "    .dataframe tbody tr th:only-of-type {\n",
       "        vertical-align: middle;\n",
       "    }\n",
       "\n",
       "    .dataframe tbody tr th {\n",
       "        vertical-align: top;\n",
       "    }\n",
       "\n",
       "    .dataframe thead th {\n",
       "        text-align: right;\n",
       "    }\n",
       "</style>\n",
       "<table border=\"1\" class=\"dataframe\">\n",
       "  <thead>\n",
       "    <tr style=\"text-align: right;\">\n",
       "      <th></th>\n",
       "      <th>customer_reference_id</th>\n",
       "      <th>item_purchased</th>\n",
       "      <th>purchase_amount_(usd)</th>\n",
       "      <th>date_purchase</th>\n",
       "      <th>review_rating</th>\n",
       "      <th>payment_method</th>\n",
       "    </tr>\n",
       "  </thead>\n",
       "  <tbody>\n",
       "    <tr>\n",
       "      <th>1744</th>\n",
       "      <td>3975</td>\n",
       "      <td>Backpack</td>\n",
       "      <td>71.0</td>\n",
       "      <td>09-02-2023</td>\n",
       "      <td>1.6</td>\n",
       "      <td>Cash</td>\n",
       "    </tr>\n",
       "    <tr>\n",
       "      <th>1366</th>\n",
       "      <td>4045</td>\n",
       "      <td>Tank Top</td>\n",
       "      <td>21.0</td>\n",
       "      <td>11-04-2023</td>\n",
       "      <td>4.3</td>\n",
       "      <td>Cash</td>\n",
       "    </tr>\n",
       "    <tr>\n",
       "      <th>2818</th>\n",
       "      <td>4006</td>\n",
       "      <td>Belt</td>\n",
       "      <td>144.0</td>\n",
       "      <td>22-01-2023</td>\n",
       "      <td>3.7</td>\n",
       "      <td>Credit Card</td>\n",
       "    </tr>\n",
       "    <tr>\n",
       "      <th>1646</th>\n",
       "      <td>4037</td>\n",
       "      <td>Sun Hat</td>\n",
       "      <td>33.0</td>\n",
       "      <td>02-12-2022</td>\n",
       "      <td>4.4</td>\n",
       "      <td>Cash</td>\n",
       "    </tr>\n",
       "    <tr>\n",
       "      <th>3274</th>\n",
       "      <td>4059</td>\n",
       "      <td>Boots</td>\n",
       "      <td>56.0</td>\n",
       "      <td>02-02-2023</td>\n",
       "      <td>NaN</td>\n",
       "      <td>Cash</td>\n",
       "    </tr>\n",
       "  </tbody>\n",
       "</table>\n",
       "</div>"
      ],
      "text/plain": [
       "      customer_reference_id item_purchased  purchase_amount_(usd)  \\\n",
       "1744                   3975       Backpack                   71.0   \n",
       "1366                   4045       Tank Top                   21.0   \n",
       "2818                   4006           Belt                  144.0   \n",
       "1646                   4037        Sun Hat                   33.0   \n",
       "3274                   4059          Boots                   56.0   \n",
       "\n",
       "     date_purchase  review_rating payment_method  \n",
       "1744    09-02-2023            1.6           Cash  \n",
       "1366    11-04-2023            4.3           Cash  \n",
       "2818    22-01-2023            3.7    Credit Card  \n",
       "1646    02-12-2022            4.4           Cash  \n",
       "3274    02-02-2023            NaN           Cash  "
      ]
     },
     "execution_count": 12,
     "metadata": {},
     "output_type": "execute_result"
    }
   ],
   "source": [
    "df.sample(5) \n",
    "\n",
    "# # Select 10% of the data randomly to explore a subset of a large dataset\n",
    "# df.sample(frac=0.1, random_state=42)"
   ]
  },
  {
   "cell_type": "markdown",
   "metadata": {},
   "source": [
    "#### 10.`Display data types of each column`."
   ]
  },
  {
   "cell_type": "code",
   "execution_count": 13,
   "metadata": {},
   "outputs": [
    {
     "data": {
      "text/plain": [
       "customer_reference_id      int64\n",
       "item_purchased            object\n",
       "purchase_amount_(usd)    float64\n",
       "date_purchase             object\n",
       "review_rating            float64\n",
       "payment_method            object\n",
       "dtype: object"
      ]
     },
     "execution_count": 13,
     "metadata": {},
     "output_type": "execute_result"
    }
   ],
   "source": [
    "df.dtypes"
   ]
  },
  {
   "cell_type": "markdown",
   "metadata": {},
   "source": [
    "#### 11.`Convert data types in specified columns`."
   ]
  },
  {
   "cell_type": "code",
   "execution_count": 14,
   "metadata": {},
   "outputs": [
    {
     "data": {
      "text/plain": [
       "customer_reference_id            object\n",
       "item_purchased                   object\n",
       "purchase_amount_(usd)           float64\n",
       "date_purchase            datetime64[ns]\n",
       "review_rating                   float64\n",
       "payment_method                   object\n",
       "dtype: object"
      ]
     },
     "execution_count": 14,
     "metadata": {},
     "output_type": "execute_result"
    }
   ],
   "source": [
    " # Convert interger to a string\n",
    "df['customer_reference_id'] = df['customer_reference_id'].astype(str)\n",
    "\n",
    "#==#\n",
    "\n",
    "# Convert object to datetime.\n",
    "# Then convert to string in desired string format\n",
    "df['date_purchase'] = pd.to_datetime(df['date_purchase'], format='%d-%m-%Y')#.dt.strftime('%Y-%m-%d') \n",
    "\n",
    "#==#\n",
    "\n",
    "# Dislay data types\n",
    "df.dtypes\n",
    "\n",
    "#==#\n",
    "\n",
    "# Convert object to datetime (# errors='coerce' will turn invalid formats into NaT (Not a Time) that can be spotted and dropped)\n",
    "# df['date_purchase'] = pd.to_datetime(df['date_purchase'], errors='coerce') "
   ]
  },
  {
   "cell_type": "markdown",
   "metadata": {},
   "source": [
    "#### 12.`Show duplicates`."
   ]
  },
  {
   "cell_type": "code",
   "execution_count": 15,
   "metadata": {},
   "outputs": [
    {
     "data": {
      "text/plain": [
       "0       False\n",
       "1       False\n",
       "2       False\n",
       "3       False\n",
       "4       False\n",
       "        ...  \n",
       "3395    False\n",
       "3396    False\n",
       "3397    False\n",
       "3398    False\n",
       "3399    False\n",
       "Length: 3400, dtype: bool"
      ]
     },
     "execution_count": 15,
     "metadata": {},
     "output_type": "execute_result"
    }
   ],
   "source": [
    "df.duplicated() # Find duplicates. TRUE = Duplicated values present."
   ]
  },
  {
   "cell_type": "markdown",
   "metadata": {},
   "source": [
    "#### 13.`Show duplicates in columnar form`."
   ]
  },
  {
   "cell_type": "code",
   "execution_count": 16,
   "metadata": {},
   "outputs": [
    {
     "data": {
      "text/plain": [
       "False"
      ]
     },
     "execution_count": 16,
     "metadata": {},
     "output_type": "execute_result"
    }
   ],
   "source": [
    "df.duplicated().any() # Find if there are any duplicates. TRUE = Duplicated values present. "
   ]
  },
  {
   "cell_type": "markdown",
   "metadata": {},
   "source": [
    "#### 14.`Delete/Remove duplicate rows based on all columns`."
   ]
  },
  {
   "cell_type": "code",
   "execution_count": 17,
   "metadata": {},
   "outputs": [],
   "source": [
    "#df.drop_duplicates() #(subset=None, keep=’first’, inplace=False, ignore_index=False)"
   ]
  },
  {
   "cell_type": "markdown",
   "metadata": {},
   "source": [
    "#### 15.`Show null values in dataframe`."
   ]
  },
  {
   "cell_type": "code",
   "execution_count": 18,
   "metadata": {},
   "outputs": [
    {
     "data": {
      "text/html": [
       "<div>\n",
       "<style scoped>\n",
       "    .dataframe tbody tr th:only-of-type {\n",
       "        vertical-align: middle;\n",
       "    }\n",
       "\n",
       "    .dataframe tbody tr th {\n",
       "        vertical-align: top;\n",
       "    }\n",
       "\n",
       "    .dataframe thead th {\n",
       "        text-align: right;\n",
       "    }\n",
       "</style>\n",
       "<table border=\"1\" class=\"dataframe\">\n",
       "  <thead>\n",
       "    <tr style=\"text-align: right;\">\n",
       "      <th></th>\n",
       "      <th>customer_reference_id</th>\n",
       "      <th>item_purchased</th>\n",
       "      <th>purchase_amount_(usd)</th>\n",
       "      <th>date_purchase</th>\n",
       "      <th>review_rating</th>\n",
       "      <th>payment_method</th>\n",
       "    </tr>\n",
       "  </thead>\n",
       "  <tbody>\n",
       "    <tr>\n",
       "      <th>0</th>\n",
       "      <td>False</td>\n",
       "      <td>False</td>\n",
       "      <td>False</td>\n",
       "      <td>False</td>\n",
       "      <td>True</td>\n",
       "      <td>False</td>\n",
       "    </tr>\n",
       "    <tr>\n",
       "      <th>1</th>\n",
       "      <td>False</td>\n",
       "      <td>False</td>\n",
       "      <td>False</td>\n",
       "      <td>False</td>\n",
       "      <td>False</td>\n",
       "      <td>False</td>\n",
       "    </tr>\n",
       "    <tr>\n",
       "      <th>2</th>\n",
       "      <td>False</td>\n",
       "      <td>False</td>\n",
       "      <td>False</td>\n",
       "      <td>False</td>\n",
       "      <td>False</td>\n",
       "      <td>False</td>\n",
       "    </tr>\n",
       "    <tr>\n",
       "      <th>3</th>\n",
       "      <td>False</td>\n",
       "      <td>False</td>\n",
       "      <td>False</td>\n",
       "      <td>False</td>\n",
       "      <td>False</td>\n",
       "      <td>False</td>\n",
       "    </tr>\n",
       "    <tr>\n",
       "      <th>4</th>\n",
       "      <td>False</td>\n",
       "      <td>False</td>\n",
       "      <td>False</td>\n",
       "      <td>False</td>\n",
       "      <td>False</td>\n",
       "      <td>False</td>\n",
       "    </tr>\n",
       "    <tr>\n",
       "      <th>...</th>\n",
       "      <td>...</td>\n",
       "      <td>...</td>\n",
       "      <td>...</td>\n",
       "      <td>...</td>\n",
       "      <td>...</td>\n",
       "      <td>...</td>\n",
       "    </tr>\n",
       "    <tr>\n",
       "      <th>3395</th>\n",
       "      <td>False</td>\n",
       "      <td>False</td>\n",
       "      <td>False</td>\n",
       "      <td>False</td>\n",
       "      <td>False</td>\n",
       "      <td>False</td>\n",
       "    </tr>\n",
       "    <tr>\n",
       "      <th>3396</th>\n",
       "      <td>False</td>\n",
       "      <td>False</td>\n",
       "      <td>False</td>\n",
       "      <td>False</td>\n",
       "      <td>False</td>\n",
       "      <td>False</td>\n",
       "    </tr>\n",
       "    <tr>\n",
       "      <th>3397</th>\n",
       "      <td>False</td>\n",
       "      <td>False</td>\n",
       "      <td>True</td>\n",
       "      <td>False</td>\n",
       "      <td>False</td>\n",
       "      <td>False</td>\n",
       "    </tr>\n",
       "    <tr>\n",
       "      <th>3398</th>\n",
       "      <td>False</td>\n",
       "      <td>False</td>\n",
       "      <td>False</td>\n",
       "      <td>False</td>\n",
       "      <td>False</td>\n",
       "      <td>False</td>\n",
       "    </tr>\n",
       "    <tr>\n",
       "      <th>3399</th>\n",
       "      <td>False</td>\n",
       "      <td>False</td>\n",
       "      <td>False</td>\n",
       "      <td>False</td>\n",
       "      <td>False</td>\n",
       "      <td>False</td>\n",
       "    </tr>\n",
       "  </tbody>\n",
       "</table>\n",
       "<p>3400 rows × 6 columns</p>\n",
       "</div>"
      ],
      "text/plain": [
       "      customer_reference_id  item_purchased  purchase_amount_(usd)  \\\n",
       "0                     False           False                  False   \n",
       "1                     False           False                  False   \n",
       "2                     False           False                  False   \n",
       "3                     False           False                  False   \n",
       "4                     False           False                  False   \n",
       "...                     ...             ...                    ...   \n",
       "3395                  False           False                  False   \n",
       "3396                  False           False                  False   \n",
       "3397                  False           False                   True   \n",
       "3398                  False           False                  False   \n",
       "3399                  False           False                  False   \n",
       "\n",
       "      date_purchase  review_rating  payment_method  \n",
       "0             False           True           False  \n",
       "1             False          False           False  \n",
       "2             False          False           False  \n",
       "3             False          False           False  \n",
       "4             False          False           False  \n",
       "...             ...            ...             ...  \n",
       "3395          False          False           False  \n",
       "3396          False          False           False  \n",
       "3397          False          False           False  \n",
       "3398          False          False           False  \n",
       "3399          False          False           False  \n",
       "\n",
       "[3400 rows x 6 columns]"
      ]
     },
     "execution_count": 18,
     "metadata": {},
     "output_type": "execute_result"
    }
   ],
   "source": [
    "df.isnull() # Display null/empty values. TRUE  = Null values present. # df.isna() can be used as well!"
   ]
  },
  {
   "cell_type": "markdown",
   "metadata": {},
   "source": [
    "#### 16.`Display booleans for null/missing values in columnar form`."
   ]
  },
  {
   "cell_type": "code",
   "execution_count": 19,
   "metadata": {},
   "outputs": [
    {
     "data": {
      "text/html": [
       "<div>\n",
       "<style scoped>\n",
       "    .dataframe tbody tr th:only-of-type {\n",
       "        vertical-align: middle;\n",
       "    }\n",
       "\n",
       "    .dataframe tbody tr th {\n",
       "        vertical-align: top;\n",
       "    }\n",
       "\n",
       "    .dataframe thead th {\n",
       "        text-align: right;\n",
       "    }\n",
       "</style>\n",
       "<table border=\"1\" class=\"dataframe\">\n",
       "  <thead>\n",
       "    <tr style=\"text-align: right;\">\n",
       "      <th></th>\n",
       "      <th>Column name</th>\n",
       "      <th>Boolean</th>\n",
       "    </tr>\n",
       "  </thead>\n",
       "  <tbody>\n",
       "    <tr>\n",
       "      <th>0</th>\n",
       "      <td>purchase_amount_(usd)</td>\n",
       "      <td>True</td>\n",
       "    </tr>\n",
       "    <tr>\n",
       "      <th>1</th>\n",
       "      <td>review_rating</td>\n",
       "      <td>True</td>\n",
       "    </tr>\n",
       "    <tr>\n",
       "      <th>2</th>\n",
       "      <td>customer_reference_id</td>\n",
       "      <td>False</td>\n",
       "    </tr>\n",
       "    <tr>\n",
       "      <th>3</th>\n",
       "      <td>item_purchased</td>\n",
       "      <td>False</td>\n",
       "    </tr>\n",
       "    <tr>\n",
       "      <th>4</th>\n",
       "      <td>date_purchase</td>\n",
       "      <td>False</td>\n",
       "    </tr>\n",
       "    <tr>\n",
       "      <th>5</th>\n",
       "      <td>payment_method</td>\n",
       "      <td>False</td>\n",
       "    </tr>\n",
       "  </tbody>\n",
       "</table>\n",
       "</div>"
      ],
      "text/plain": [
       "             Column name  Boolean\n",
       "0  purchase_amount_(usd)     True\n",
       "1          review_rating     True\n",
       "2  customer_reference_id    False\n",
       "3         item_purchased    False\n",
       "4          date_purchase    False\n",
       "5         payment_method    False"
      ]
     },
     "execution_count": 19,
     "metadata": {},
     "output_type": "execute_result"
    }
   ],
   "source": [
    "df.isnull().any().to_frame('Boolean').sort_values(by='Boolean',ascending=False).reset_index().rename(columns={'index':'Column name'})"
   ]
  },
  {
   "cell_type": "markdown",
   "metadata": {},
   "source": [
    "#### 17.`Display sum of null/missing values in columnar form - A`."
   ]
  },
  {
   "cell_type": "code",
   "execution_count": 20,
   "metadata": {},
   "outputs": [
    {
     "data": {
      "text/html": [
       "<style type=\"text/css\">\n",
       "</style>\n",
       "<table id=\"T_beed1\">\n",
       "  <thead>\n",
       "    <tr>\n",
       "      <th class=\"blank level0\" >&nbsp;</th>\n",
       "      <th id=\"T_beed1_level0_col0\" class=\"col_heading level0 col0\" >Column Name</th>\n",
       "      <th id=\"T_beed1_level0_col1\" class=\"col_heading level0 col1\" >Sum of Missing Values</th>\n",
       "    </tr>\n",
       "  </thead>\n",
       "  <tbody>\n",
       "    <tr>\n",
       "      <th id=\"T_beed1_level0_row0\" class=\"row_heading level0 row0\" >0</th>\n",
       "      <td id=\"T_beed1_row0_col0\" class=\"data row0 col0\" >purchase_amount_(usd)</td>\n",
       "      <td id=\"T_beed1_row0_col1\" class=\"data row0 col1\" >650</td>\n",
       "    </tr>\n",
       "    <tr>\n",
       "      <th id=\"T_beed1_level0_row1\" class=\"row_heading level0 row1\" >1</th>\n",
       "      <td id=\"T_beed1_row1_col0\" class=\"data row1 col0\" >review_rating</td>\n",
       "      <td id=\"T_beed1_row1_col1\" class=\"data row1 col1\" >324</td>\n",
       "    </tr>\n",
       "    <tr>\n",
       "      <th id=\"T_beed1_level0_row2\" class=\"row_heading level0 row2\" >2</th>\n",
       "      <td id=\"T_beed1_row2_col0\" class=\"data row2 col0\" >customer_reference_id</td>\n",
       "      <td id=\"T_beed1_row2_col1\" class=\"data row2 col1\" >0</td>\n",
       "    </tr>\n",
       "    <tr>\n",
       "      <th id=\"T_beed1_level0_row3\" class=\"row_heading level0 row3\" >3</th>\n",
       "      <td id=\"T_beed1_row3_col0\" class=\"data row3 col0\" >item_purchased</td>\n",
       "      <td id=\"T_beed1_row3_col1\" class=\"data row3 col1\" >0</td>\n",
       "    </tr>\n",
       "    <tr>\n",
       "      <th id=\"T_beed1_level0_row4\" class=\"row_heading level0 row4\" >4</th>\n",
       "      <td id=\"T_beed1_row4_col0\" class=\"data row4 col0\" >date_purchase</td>\n",
       "      <td id=\"T_beed1_row4_col1\" class=\"data row4 col1\" >0</td>\n",
       "    </tr>\n",
       "    <tr>\n",
       "      <th id=\"T_beed1_level0_row5\" class=\"row_heading level0 row5\" >5</th>\n",
       "      <td id=\"T_beed1_row5_col0\" class=\"data row5 col0\" >payment_method</td>\n",
       "      <td id=\"T_beed1_row5_col1\" class=\"data row5 col1\" >0</td>\n",
       "    </tr>\n",
       "  </tbody>\n",
       "</table>\n"
      ],
      "text/plain": [
       "<pandas.io.formats.style.Styler at 0x20c12084c50>"
      ]
     },
     "execution_count": 20,
     "metadata": {},
     "output_type": "execute_result"
    }
   ],
   "source": [
    "df.isnull().sum().to_frame('Sum of Missing Values').sort_values(by='Sum of Missing Values',ascending=False)\\\n",
    "    .reset_index().rename(columns={'index':'Column Name'}).style.format({\"Sum of Missing Values\": \"{:,.0f}\"})"
   ]
  },
  {
   "cell_type": "markdown",
   "metadata": {},
   "source": [
    "#### 18.`Display the sum of null/missing values in columnar form - B`."
   ]
  },
  {
   "cell_type": "code",
   "execution_count": 21,
   "metadata": {},
   "outputs": [
    {
     "name": "stdout",
     "output_type": "stream",
     "text": [
      "customer_reference_id      0\n",
      "item_purchased             0\n",
      "purchase_amount_(usd)    650\n",
      "date_purchase              0\n",
      "review_rating            324\n",
      "payment_method             0\n",
      "dtype: int64\n"
     ]
    }
   ],
   "source": [
    "missing_sum = df.isnull().sum().round(2)\n",
    "print(missing_sum)\n",
    "\n",
    "#==#\n",
    "\n",
    "# missing_sum = round(df.isnull().sum(),2)\n",
    "# print(missing_sum)"
   ]
  },
  {
   "cell_type": "markdown",
   "metadata": {},
   "source": [
    "#### 19.`Display the sum of null/missing values in columnar form - C`(Function utilised)."
   ]
  },
  {
   "cell_type": "code",
   "execution_count": 22,
   "metadata": {},
   "outputs": [
    {
     "name": "stdout",
     "output_type": "stream",
     "text": [
      "purchase_amount_(usd) => 650\n",
      "review_rating => 324\n"
     ]
    }
   ],
   "source": [
    "def missing_cols(df):\n",
    "    #prints out columns with its amount of missing values\n",
    "    total = 0\n",
    "    for col in df.columns:\n",
    "        missing_vals = df[col].isnull().sum()\n",
    "        total += missing_vals\n",
    "        if missing_vals != 0:\n",
    "            print(f\"{col} => {df[col].isnull().sum()}\")\n",
    "    \n",
    "    if total == 0:\n",
    "        print(\"no missing values left\")\n",
    "            \n",
    "missing_cols(df)"
   ]
  },
  {
   "cell_type": "markdown",
   "metadata": {},
   "source": [
    "#### 20.`Display the % of null/missing values in columnar form - A`."
   ]
  },
  {
   "cell_type": "code",
   "execution_count": 23,
   "metadata": {},
   "outputs": [
    {
     "name": "stdout",
     "output_type": "stream",
     "text": [
      "customer_reference_id     0.00\n",
      "item_purchased            0.00\n",
      "purchase_amount_(usd)    19.12\n",
      "date_purchase             0.00\n",
      "review_rating             9.53\n",
      "payment_method            0.00\n",
      "dtype: float64\n"
     ]
    }
   ],
   "source": [
    "missing_pct = df.isnull().sum()/len(df) * 100\n",
    "print(missing_pct.round(2))\n",
    "\n",
    "#missing_pct = round(df.isnull().sum()/len(df) * 100, 2)\n",
    "#print(missing_pct)"
   ]
  },
  {
   "cell_type": "markdown",
   "metadata": {},
   "source": [
    "#### 21.`Visualise null/missing values with Seaborn Heatmap`."
   ]
  },
  {
   "cell_type": "code",
   "execution_count": 24,
   "metadata": {},
   "outputs": [
    {
     "data": {
      "text/plain": [
       "<Axes: >"
      ]
     },
     "execution_count": 24,
     "metadata": {},
     "output_type": "execute_result"
    },
    {
     "data": {
      "image/png": "[encoded data removed]",
      "text/plain": [
       "<Figure size 1000x500 with 2 Axes>"
      ]
     },
     "metadata": {},
     "output_type": "display_data"
    }
   ],
   "source": [
    "# Extract the column names\n",
    "cols = df.columns\n",
    "\n",
    "# Plot a heatmap of missing values with seaborn\n",
    "plt.figure(figsize = (10,5))\n",
    "sns.heatmap(df[cols].isnull())"
   ]
  },
  {
   "cell_type": "markdown",
   "metadata": {},
   "source": [
    "# `Clean Dataframe`."
   ]
  },
  {
   "cell_type": "markdown",
   "metadata": {},
   "source": [
    "## `Handle Missing Values`."
   ]
  },
  {
   "cell_type": "markdown",
   "metadata": {},
   "source": [
    "#### 1.`Fill columns with null/missing values in the dataframe with text of choice`."
   ]
  },
  {
   "cell_type": "code",
   "execution_count": 25,
   "metadata": {},
   "outputs": [],
   "source": [
    "# df.fillna({'customer_name':'Not Stated',\n",
    "#            'customer_type':'Not Stated',\n",
    "#            'customer_type':'Not Stated',\n",
    "#            'pos_location_name':'Not Stated',\n",
    "#            'billing_country':'Not Stated',\n",
    "#            'billing_region':'Not Stated',\n",
    "#            'billing_city':'Not Stated',\n",
    "#            'shipping_country':'Not Stated',\n",
    "#            'shipping_region':'Not Stated',\n",
    "#            'shipping_city':'Not Stated',\n",
    "#            'product_type':'Not Stated',\n",
    "#            'product_vendor':'Not Stated',\n",
    "#            'product_title':'Not Stated',\n",
    "#            'variant_title':'Not Stated',\n",
    "#            'variant_sku':'Not Stated',     \n",
    "#            }, inplace=True)"
   ]
  },
  {
   "cell_type": "markdown",
   "metadata": {},
   "source": [
    "#### 2.`Interpolate a value to replace null/missing values & not a time (NAT) values based on its neighbors`."
   ]
  },
  {
   "cell_type": "code",
   "execution_count": 26,
   "metadata": {},
   "outputs": [
    {
     "data": {
      "text/html": [
       "<div>\n",
       "<style scoped>\n",
       "    .dataframe tbody tr th:only-of-type {\n",
       "        vertical-align: middle;\n",
       "    }\n",
       "\n",
       "    .dataframe tbody tr th {\n",
       "        vertical-align: top;\n",
       "    }\n",
       "\n",
       "    .dataframe thead th {\n",
       "        text-align: right;\n",
       "    }\n",
       "</style>\n",
       "<table border=\"1\" class=\"dataframe\">\n",
       "  <thead>\n",
       "    <tr style=\"text-align: right;\">\n",
       "      <th></th>\n",
       "      <th>customer_reference_id</th>\n",
       "      <th>item_purchased</th>\n",
       "      <th>purchase_amount_(usd)</th>\n",
       "      <th>date_purchase</th>\n",
       "      <th>review_rating</th>\n",
       "      <th>payment_method</th>\n",
       "    </tr>\n",
       "  </thead>\n",
       "  <tbody>\n",
       "    <tr>\n",
       "      <th>2564</th>\n",
       "      <td>4000</td>\n",
       "      <td>Hoodie</td>\n",
       "      <td>149.000000</td>\n",
       "      <td>2023-08-17</td>\n",
       "      <td>4.4</td>\n",
       "      <td>Credit Card</td>\n",
       "    </tr>\n",
       "    <tr>\n",
       "      <th>2709</th>\n",
       "      <td>4027</td>\n",
       "      <td>Boots</td>\n",
       "      <td>110.666667</td>\n",
       "      <td>2023-03-23</td>\n",
       "      <td>4.9</td>\n",
       "      <td>Credit Card</td>\n",
       "    </tr>\n",
       "    <tr>\n",
       "      <th>1201</th>\n",
       "      <td>4037</td>\n",
       "      <td>Sneakers</td>\n",
       "      <td>175.500000</td>\n",
       "      <td>2023-02-11</td>\n",
       "      <td>4.4</td>\n",
       "      <td>Cash</td>\n",
       "    </tr>\n",
       "    <tr>\n",
       "      <th>2746</th>\n",
       "      <td>3963</td>\n",
       "      <td>Vest</td>\n",
       "      <td>110.000000</td>\n",
       "      <td>2023-07-09</td>\n",
       "      <td>4.8</td>\n",
       "      <td>Cash</td>\n",
       "    </tr>\n",
       "    <tr>\n",
       "      <th>601</th>\n",
       "      <td>3986</td>\n",
       "      <td>Tunic</td>\n",
       "      <td>126.000000</td>\n",
       "      <td>2023-01-30</td>\n",
       "      <td>4.1</td>\n",
       "      <td>Cash</td>\n",
       "    </tr>\n",
       "  </tbody>\n",
       "</table>\n",
       "</div>"
      ],
      "text/plain": [
       "     customer_reference_id item_purchased  purchase_amount_(usd)  \\\n",
       "2564                  4000         Hoodie             149.000000   \n",
       "2709                  4027          Boots             110.666667   \n",
       "1201                  4037       Sneakers             175.500000   \n",
       "2746                  3963           Vest             110.000000   \n",
       "601                   3986          Tunic             126.000000   \n",
       "\n",
       "     date_purchase  review_rating payment_method  \n",
       "2564    2023-08-17            4.4    Credit Card  \n",
       "2709    2023-03-23            4.9    Credit Card  \n",
       "1201    2023-02-11            4.4           Cash  \n",
       "2746    2023-07-09            4.8           Cash  \n",
       "601     2023-01-30            4.1           Cash  "
      ]
     },
     "execution_count": 26,
     "metadata": {},
     "output_type": "execute_result"
    }
   ],
   "source": [
    "df['date_purchase'] = df['date_purchase'].interpolate(method='linear', limit_direction='both')  # For NaT values\n",
    "df['purchase_amount_(usd)'] = df['purchase_amount_(usd)'].interpolate(method='linear', limit_direction='both')  # For NaN values\n",
    "df['review_rating'] = df['review_rating'].interpolate(method='linear', limit_direction='both')  # For NaN values\n",
    "df.sample(5) # Display a sample of 5 rows from our dataset\n",
    "\n",
    "#==#\n",
    "\n",
    "# df = df.interpolate(method='linear') # This will work for the entire dataframe and apply linear interpolation to both NaN and NaT values where applicable. Check first!\n",
    "# df = df.interpolate(method='linear', limit_direction='both') # This allows interpolation in both directions, filling start/end NaNs"
   ]
  },
  {
   "cell_type": "markdown",
   "metadata": {},
   "source": [
    "##### 3. `Round float in specified column(s) to 0 decimal places`."
   ]
  },
  {
   "cell_type": "code",
   "execution_count": 27,
   "metadata": {},
   "outputs": [
    {
     "data": {
      "text/html": [
       "<div>\n",
       "<style scoped>\n",
       "    .dataframe tbody tr th:only-of-type {\n",
       "        vertical-align: middle;\n",
       "    }\n",
       "\n",
       "    .dataframe tbody tr th {\n",
       "        vertical-align: top;\n",
       "    }\n",
       "\n",
       "    .dataframe thead th {\n",
       "        text-align: right;\n",
       "    }\n",
       "</style>\n",
       "<table border=\"1\" class=\"dataframe\">\n",
       "  <thead>\n",
       "    <tr style=\"text-align: right;\">\n",
       "      <th></th>\n",
       "      <th>customer_reference_id</th>\n",
       "      <th>item_purchased</th>\n",
       "      <th>purchase_amount_(usd)</th>\n",
       "      <th>date_purchase</th>\n",
       "      <th>review_rating</th>\n",
       "      <th>payment_method</th>\n",
       "    </tr>\n",
       "  </thead>\n",
       "  <tbody>\n",
       "    <tr>\n",
       "      <th>858</th>\n",
       "      <td>4115</td>\n",
       "      <td>Jacket</td>\n",
       "      <td>178.0</td>\n",
       "      <td>2023-05-09</td>\n",
       "      <td>2.0</td>\n",
       "      <td>Credit Card</td>\n",
       "    </tr>\n",
       "    <tr>\n",
       "      <th>1239</th>\n",
       "      <td>3987</td>\n",
       "      <td>T-shirt</td>\n",
       "      <td>146.0</td>\n",
       "      <td>2022-11-23</td>\n",
       "      <td>4.0</td>\n",
       "      <td>Credit Card</td>\n",
       "    </tr>\n",
       "    <tr>\n",
       "      <th>21</th>\n",
       "      <td>3986</td>\n",
       "      <td>Gloves</td>\n",
       "      <td>4298.0</td>\n",
       "      <td>2023-04-05</td>\n",
       "      <td>4.0</td>\n",
       "      <td>Cash</td>\n",
       "    </tr>\n",
       "    <tr>\n",
       "      <th>2083</th>\n",
       "      <td>3973</td>\n",
       "      <td>Sun Hat</td>\n",
       "      <td>162.0</td>\n",
       "      <td>2022-12-21</td>\n",
       "      <td>4.0</td>\n",
       "      <td>Cash</td>\n",
       "    </tr>\n",
       "    <tr>\n",
       "      <th>510</th>\n",
       "      <td>4063</td>\n",
       "      <td>Slippers</td>\n",
       "      <td>39.0</td>\n",
       "      <td>2023-08-16</td>\n",
       "      <td>4.0</td>\n",
       "      <td>Credit Card</td>\n",
       "    </tr>\n",
       "  </tbody>\n",
       "</table>\n",
       "</div>"
      ],
      "text/plain": [
       "     customer_reference_id item_purchased  purchase_amount_(usd)  \\\n",
       "858                   4115         Jacket                  178.0   \n",
       "1239                  3987        T-shirt                  146.0   \n",
       "21                    3986         Gloves                 4298.0   \n",
       "2083                  3973        Sun Hat                  162.0   \n",
       "510                   4063       Slippers                   39.0   \n",
       "\n",
       "     date_purchase  review_rating payment_method  \n",
       "858     2023-05-09            2.0    Credit Card  \n",
       "1239    2022-11-23            4.0    Credit Card  \n",
       "21      2023-04-05            4.0           Cash  \n",
       "2083    2022-12-21            4.0           Cash  \n",
       "510     2023-08-16            4.0    Credit Card  "
      ]
     },
     "execution_count": 27,
     "metadata": {},
     "output_type": "execute_result"
    }
   ],
   "source": [
    "df['purchase_amount_(usd)'] = df['purchase_amount_(usd)'].round(0) # Round Float to 0 decimal places\n",
    "df['review_rating'] = df['review_rating'].round(0) # Round Float to 0 decimal places\n",
    "df.sample(5) # Display a sample of 5 rows from our dataset"
   ]
  },
  {
   "cell_type": "markdown",
   "metadata": {},
   "source": [
    "#### 3. `Replace NaN and -inf values with 0`."
   ]
  },
  {
   "cell_type": "code",
   "execution_count": 28,
   "metadata": {},
   "outputs": [],
   "source": [
    "# df = df.replace([np.nan, -np.inf], 0)"
   ]
  },
  {
   "cell_type": "markdown",
   "metadata": {},
   "source": [
    "#### 4.`Replace inf & -inf values with null/missing values and drop from rows`."
   ]
  },
  {
   "cell_type": "code",
   "execution_count": 29,
   "metadata": {},
   "outputs": [],
   "source": [
    "# df.replace([np.inf, -np.inf], np.nan).dropna(axis=0,inplace=True) # 0 = rows, 1 = Rows"
   ]
  },
  {
   "cell_type": "markdown",
   "metadata": {},
   "source": [
    "#### 5.`Display booleans for null/missing values in columnar form`."
   ]
  },
  {
   "cell_type": "code",
   "execution_count": 30,
   "metadata": {},
   "outputs": [
    {
     "data": {
      "text/html": [
       "<div>\n",
       "<style scoped>\n",
       "    .dataframe tbody tr th:only-of-type {\n",
       "        vertical-align: middle;\n",
       "    }\n",
       "\n",
       "    .dataframe tbody tr th {\n",
       "        vertical-align: top;\n",
       "    }\n",
       "\n",
       "    .dataframe thead th {\n",
       "        text-align: right;\n",
       "    }\n",
       "</style>\n",
       "<table border=\"1\" class=\"dataframe\">\n",
       "  <thead>\n",
       "    <tr style=\"text-align: right;\">\n",
       "      <th></th>\n",
       "      <th>Column name</th>\n",
       "      <th>Boolean</th>\n",
       "    </tr>\n",
       "  </thead>\n",
       "  <tbody>\n",
       "    <tr>\n",
       "      <th>0</th>\n",
       "      <td>customer_reference_id</td>\n",
       "      <td>False</td>\n",
       "    </tr>\n",
       "    <tr>\n",
       "      <th>1</th>\n",
       "      <td>item_purchased</td>\n",
       "      <td>False</td>\n",
       "    </tr>\n",
       "    <tr>\n",
       "      <th>2</th>\n",
       "      <td>purchase_amount_(usd)</td>\n",
       "      <td>False</td>\n",
       "    </tr>\n",
       "    <tr>\n",
       "      <th>3</th>\n",
       "      <td>date_purchase</td>\n",
       "      <td>False</td>\n",
       "    </tr>\n",
       "    <tr>\n",
       "      <th>4</th>\n",
       "      <td>review_rating</td>\n",
       "      <td>False</td>\n",
       "    </tr>\n",
       "    <tr>\n",
       "      <th>5</th>\n",
       "      <td>payment_method</td>\n",
       "      <td>False</td>\n",
       "    </tr>\n",
       "  </tbody>\n",
       "</table>\n",
       "</div>"
      ],
      "text/plain": [
       "             Column name  Boolean\n",
       "0  customer_reference_id    False\n",
       "1         item_purchased    False\n",
       "2  purchase_amount_(usd)    False\n",
       "3          date_purchase    False\n",
       "4          review_rating    False\n",
       "5         payment_method    False"
      ]
     },
     "execution_count": 30,
     "metadata": {},
     "output_type": "execute_result"
    }
   ],
   "source": [
    "df.isnull().any().to_frame('Boolean').sort_values(by='Boolean',ascending=False).reset_index().rename(columns={'index':'Column name'})"
   ]
  },
  {
   "cell_type": "markdown",
   "metadata": {},
   "source": [
    "#### 6.`Display sum of missing values in columnar form - A`."
   ]
  },
  {
   "cell_type": "code",
   "execution_count": 31,
   "metadata": {},
   "outputs": [
    {
     "data": {
      "text/html": [
       "<style type=\"text/css\">\n",
       "</style>\n",
       "<table id=\"T_bbe6f\">\n",
       "  <thead>\n",
       "    <tr>\n",
       "      <th class=\"blank level0\" >&nbsp;</th>\n",
       "      <th id=\"T_bbe6f_level0_col0\" class=\"col_heading level0 col0\" >Column Name</th>\n",
       "      <th id=\"T_bbe6f_level0_col1\" class=\"col_heading level0 col1\" >Sum of Missing Values</th>\n",
       "    </tr>\n",
       "  </thead>\n",
       "  <tbody>\n",
       "    <tr>\n",
       "      <th id=\"T_bbe6f_level0_row0\" class=\"row_heading level0 row0\" >0</th>\n",
       "      <td id=\"T_bbe6f_row0_col0\" class=\"data row0 col0\" >customer_reference_id</td>\n",
       "      <td id=\"T_bbe6f_row0_col1\" class=\"data row0 col1\" >0</td>\n",
       "    </tr>\n",
       "    <tr>\n",
       "      <th id=\"T_bbe6f_level0_row1\" class=\"row_heading level0 row1\" >1</th>\n",
       "      <td id=\"T_bbe6f_row1_col0\" class=\"data row1 col0\" >item_purchased</td>\n",
       "      <td id=\"T_bbe6f_row1_col1\" class=\"data row1 col1\" >0</td>\n",
       "    </tr>\n",
       "    <tr>\n",
       "      <th id=\"T_bbe6f_level0_row2\" class=\"row_heading level0 row2\" >2</th>\n",
       "      <td id=\"T_bbe6f_row2_col0\" class=\"data row2 col0\" >purchase_amount_(usd)</td>\n",
       "      <td id=\"T_bbe6f_row2_col1\" class=\"data row2 col1\" >0</td>\n",
       "    </tr>\n",
       "    <tr>\n",
       "      <th id=\"T_bbe6f_level0_row3\" class=\"row_heading level0 row3\" >3</th>\n",
       "      <td id=\"T_bbe6f_row3_col0\" class=\"data row3 col0\" >date_purchase</td>\n",
       "      <td id=\"T_bbe6f_row3_col1\" class=\"data row3 col1\" >0</td>\n",
       "    </tr>\n",
       "    <tr>\n",
       "      <th id=\"T_bbe6f_level0_row4\" class=\"row_heading level0 row4\" >4</th>\n",
       "      <td id=\"T_bbe6f_row4_col0\" class=\"data row4 col0\" >review_rating</td>\n",
       "      <td id=\"T_bbe6f_row4_col1\" class=\"data row4 col1\" >0</td>\n",
       "    </tr>\n",
       "    <tr>\n",
       "      <th id=\"T_bbe6f_level0_row5\" class=\"row_heading level0 row5\" >5</th>\n",
       "      <td id=\"T_bbe6f_row5_col0\" class=\"data row5 col0\" >payment_method</td>\n",
       "      <td id=\"T_bbe6f_row5_col1\" class=\"data row5 col1\" >0</td>\n",
       "    </tr>\n",
       "  </tbody>\n",
       "</table>\n"
      ],
      "text/plain": [
       "<pandas.io.formats.style.Styler at 0x20c120438c0>"
      ]
     },
     "execution_count": 31,
     "metadata": {},
     "output_type": "execute_result"
    }
   ],
   "source": [
    "df.isnull().sum().to_frame('Sum of Missing Values').sort_values(by='Sum of Missing Values',ascending=False)\\\n",
    "    .reset_index().rename(columns={'index':'Column Name'}).style.format({\"Sum of Missing Values\": \"{:,.0f}\"})"
   ]
  },
  {
   "cell_type": "markdown",
   "metadata": {},
   "source": [
    "#### 7.`Display the sum of missing values in columnar form - B`."
   ]
  },
  {
   "cell_type": "code",
   "execution_count": 32,
   "metadata": {},
   "outputs": [
    {
     "name": "stdout",
     "output_type": "stream",
     "text": [
      "customer_reference_id    0\n",
      "item_purchased           0\n",
      "purchase_amount_(usd)    0\n",
      "date_purchase            0\n",
      "review_rating            0\n",
      "payment_method           0\n",
      "dtype: int64\n"
     ]
    }
   ],
   "source": [
    "missing_sum = df.isnull().sum().round(2)\n",
    "print(missing_sum)\n",
    "\n",
    "#missing_sum = round(df.isnull().sum(),2)\n",
    "#print(missing_sum)"
   ]
  },
  {
   "cell_type": "markdown",
   "metadata": {},
   "source": [
    "#### 8.`Display the sum of missing values in columnar form - C`(Function utilised)."
   ]
  },
  {
   "cell_type": "code",
   "execution_count": 33,
   "metadata": {},
   "outputs": [
    {
     "name": "stdout",
     "output_type": "stream",
     "text": [
      "no missing values left\n"
     ]
    }
   ],
   "source": [
    "def missing_cols(df):\n",
    "    #prints out columns with its amount of missing values\n",
    "    total = 0\n",
    "    for col in df.columns:\n",
    "        missing_vals = df[col].isnull().sum()\n",
    "        total += missing_vals\n",
    "        if missing_vals != 0:\n",
    "            print(f\"{col} => {df[col].isnull().sum()}\")\n",
    "    \n",
    "    if total == 0:\n",
    "        print(\"no missing values left\")\n",
    "            \n",
    "missing_cols(df)"
   ]
  },
  {
   "cell_type": "markdown",
   "metadata": {},
   "source": [
    "#### 9.`Display the % of null/missing values in columnar form - A`."
   ]
  },
  {
   "cell_type": "code",
   "execution_count": 34,
   "metadata": {},
   "outputs": [
    {
     "name": "stdout",
     "output_type": "stream",
     "text": [
      "customer_reference_id    0.0\n",
      "item_purchased           0.0\n",
      "purchase_amount_(usd)    0.0\n",
      "date_purchase            0.0\n",
      "review_rating            0.0\n",
      "payment_method           0.0\n",
      "dtype: float64\n"
     ]
    }
   ],
   "source": [
    "missing_pct = df.isnull().sum()/len(df) * 100\n",
    "print(missing_pct.round(2))\n",
    "\n",
    "#missing_pct = round(df.isnull().sum()/len(df) * 100, 2)\n",
    "#print(missing_pct)"
   ]
  },
  {
   "cell_type": "markdown",
   "metadata": {},
   "source": [
    "#### 10.`Display the % of null/missing values in in columnar form - B`(Function utilised)"
   ]
  },
  {
   "cell_type": "code",
   "execution_count": 35,
   "metadata": {},
   "outputs": [
    {
     "name": "stdout",
     "output_type": "stream",
     "text": [
      "no missing values left\n"
     ]
    }
   ],
   "source": [
    "def missing_pct(df):\n",
    "    for col in df.columns:\n",
    "        pct = df[col].isnull().sum()/(len(df))\n",
    "        #pct = df[col].isnull().sum()/(len(df)) * 100\n",
    "        if(pct != 0):\n",
    "            print(f\"{col} => {pct:.2%}\")\n",
    "            #print(\"{} : {}%\".format(col, round(pct,2)))\n",
    "    if(pct == 0):\n",
    "        print(\"no missing values left\")\n",
    "\n",
    "missing_pct(df)"
   ]
  },
  {
   "cell_type": "markdown",
   "metadata": {},
   "source": [
    "#### 11.`Visualise null/missing values with Seaborn Heatmap`."
   ]
  },
  {
   "cell_type": "code",
   "execution_count": 36,
   "metadata": {},
   "outputs": [
    {
     "data": {
      "text/plain": [
       "<Axes: >"
      ]
     },
     "execution_count": 36,
     "metadata": {},
     "output_type": "execute_result"
    },
    {
     "data": {
      "image/png": "[encoded data removed]",
      "text/plain": [
       "<Figure size 1000x500 with 2 Axes>"
      ]
     },
     "metadata": {},
     "output_type": "display_data"
    }
   ],
   "source": [
    "# Extract the column names\n",
    "cols = df.columns\n",
    "\n",
    "# Plot a heatmap of missing values with seaborn\n",
    "plt.figure(figsize = (10,5))\n",
    "sns.heatmap(df[cols].isnull())"
   ]
  },
  {
   "cell_type": "markdown",
   "metadata": {},
   "source": [
    "## `Modify Dataframe`."
   ]
  },
  {
   "cell_type": "markdown",
   "metadata": {},
   "source": [
    "#### Apply `.loc` and `.between` to group by `size` and create a new column displaying size."
   ]
  },
  {
   "cell_type": "code",
   "execution_count": 37,
   "metadata": {},
   "outputs": [],
   "source": [
    "# df.loc[df['purchase_amount_(usd)'].between(0, 100), 'size'] = '1'\n",
    "# df.loc[df['purchase_amount_(usd)'].between(100, 200), 'size'] = '2'\n",
    "# df.loc[df['purchase_amount_(usd)'].between(200, 300), 'size'] = '3'\n",
    "# df.loc[df['purchase_amount_(usd)'].between(300, 400), 'size'] = '4'\n",
    "# df.loc[df['purchase_amount_(usd)'].between(400, 500), 'size'] = '5'\n",
    "# df.loc[df['purchase_amount_(usd)'].between(500, 600), 'size'] = '6'\n",
    "# df.loc[df['purchase_amount_(usd)'].between(600, 700), 'size'] = '7'\n",
    "# df.loc[df['purchase_amount_(usd)'].between(700, 800), 'size'] = '8'\n",
    "# df.loc[df['purchase_amount_(usd)'].between(800, 900), 'size'] = '9'\n",
    "# df.loc[df['purchase_amount_(usd)'].between(900, 1000), 'size'] = '10'\n",
    "# df.loc[df['purchase_amount_(usd)'].between(1000, 1100), 'size'] = '11'\n",
    "# df.loc[df['purchase_amount_(usd)'].between(1100, 1200), 'size'] = '12'\n",
    "# df.loc[df['purchase_amount_(usd)'].between(1200, 1300), 'size'] = '13'\n",
    "# df.loc[df['purchase_amount_(usd)'].between(1300, 1400), 'size'] = '14'\n",
    "# df.loc[df['purchase_amount_(usd)'].between(1400, 1500), 'size'] = '15'\n",
    "# df.loc[df['purchase_amount_(usd)'].between(1500, 1600), 'size'] = '16'\n",
    "# df.loc[df['purchase_amount_(usd)'].between(1600, 1700), 'size'] = '17'\n",
    "# df.loc[df['purchase_amount_(usd)'].between(1700, 1800), 'size'] = '18'\n",
    "# df.loc[df['purchase_amount_(usd)'].between(1800, 1900), 'size'] = '19'\n",
    "# df.loc[df['purchase_amount_(usd)'].between(1900, 2000), 'size'] = '20'\n",
    "# df.loc[df['purchase_amount_(usd)'].between(2000, 2100), 'size'] = '21'\n",
    "# df.loc[df['purchase_amount_(usd)'].between(2100, 2200), 'size'] = '22'\n",
    "# df.loc[df['purchase_amount_(usd)'].between(2200, 2300), 'size'] = '23'\n",
    "# df.loc[df['purchase_amount_(usd)'].between(2300, 2400), 'size'] = '24'\n",
    "# df.loc[df['purchase_amount_(usd)'].between(2400, 2500), 'size'] = '25'\n",
    "# df.loc[df['purchase_amount_(usd)'].between(2500, 2600), 'size'] = '26'\n",
    "# df.loc[df['purchase_amount_(usd)'].between(2600, 2700), 'size'] = '27'\n",
    "# df.loc[df['purchase_amount_(usd)'].between(2700, 2800), 'size'] = '28'\n",
    "# df.loc[df['purchase_amount_(usd)'].between(2800, 2900), 'size'] = '29'\n",
    "# df.loc[df['purchase_amount_(usd)'].between(2900, 3000), 'size'] = '30'\n",
    "# df.loc[df['purchase_amount_(usd)'].between(3000, 3100), 'size'] = '32'\n",
    "# df.loc[df['purchase_amount_(usd)'].between(3100, 3200), 'size'] = '33'\n",
    "# df.loc[df['purchase_amount_(usd)'].between(3200, 3300), 'size'] = '34'\n",
    "# df.loc[df['purchase_amount_(usd)'].between(3300, 3400), 'size'] = '35'\n",
    "# df.loc[df['purchase_amount_(usd)'].between(3400, 3500), 'size'] = '36'\n",
    "# df.loc[df['purchase_amount_(usd)'].between(3500, 3600), 'size'] = '37'\n",
    "# df.loc[df['purchase_amount_(usd)'].between(3600, 3700), 'size'] = '38'\n",
    "# df.loc[df['purchase_amount_(usd)'].between(3700, 3800), 'size'] = '39'\n",
    "# df.loc[df['purchase_amount_(usd)'].between(3800, 3900), 'size'] = '40'\n",
    "# df.loc[df['purchase_amount_(usd)'].between(3900, 4000), 'size'] = '41'\n",
    "# df.loc[df['purchase_amount_(usd)'].between(4000, 4100), 'size'] = '42'\n",
    "# df.loc[df['purchase_amount_(usd)'].between(4100, 4200), 'size'] = '43'\n",
    "# df.loc[df['purchase_amount_(usd)'].between(4200, 4300), 'size'] = '44'\n",
    "# df.loc[df['purchase_amount_(usd)'].between(4300, 4400), 'size'] = '45'\n",
    "# df.loc[df['purchase_amount_(usd)'].between(4400, 4500), 'size'] = '46'\n",
    "# df.head(3)"
   ]
  },
  {
   "cell_type": "markdown",
   "metadata": {},
   "source": [
    "#### Apply `pd.to_datetime` and `dt.normalize` to convert a `time stamped` string to `date` and create a new column displaying date."
   ]
  },
  {
   "cell_type": "code",
   "execution_count": 38,
   "metadata": {},
   "outputs": [],
   "source": [
    "# df['date'] = pd.to_datetime(df['date_purchase'], format='%d/%m/%Y %H:%M').dt.normalize() # Use if category timestamped\n",
    "# df.head(2)\n",
    "#==#\n",
    "# df['date']=pd.to_datetime(df['date_purchase']).dt.normalize() # Use if category timestamped\n",
    "# df.head(2)\n",
    "#==#\n",
    "# # df['date']=df['date_purchase'].dt.date # Use if category timestamped\n",
    "# df.head(2)"
   ]
  },
  {
   "cell_type": "markdown",
   "metadata": {},
   "source": [
    "#### Apply `df.loc` and `dt.hour.between` to convert a `time stamped` string to `day`,`afternoon`,`evening` and `night` and create a new column displaying day, afternoon, evening and night."
   ]
  },
  {
   "cell_type": "code",
   "execution_count": 39,
   "metadata": {},
   "outputs": [],
   "source": [
    "# # Assign parts of the day based on time ranges\n",
    "# # between_time() can’t handle time ranges that cross midnight (like '21:00' to '04:00'). So we split it into two parts\n",
    "# df.loc[df['date_purchase'].dt.hour.between(5, 12), 'parts_of_the_day'] = 'morning'\n",
    "# df.loc[df['date_purchase'].dt.hour.between(12, 17), 'parts_of_the_day'] = 'afternoon'\n",
    "# df.loc[df['date_purchase'].dt.hour.between(17, 21), 'parts_of_the_day'] = 'evening'\n",
    "# df.loc[df['date_purchase'].dt.hour.between(21, 23.59) \\\n",
    "#        | df['date_purchase'].dt.hour.between(0, 4) , 'parts_of_the_day'] = 'night'\n",
    "\n",
    "# # Show the first few rows\n",
    "# df.head(3)"
   ]
  },
  {
   "cell_type": "markdown",
   "metadata": {},
   "source": [
    "##### `Display first few rows of 'parts_of_the_day'`."
   ]
  },
  {
   "cell_type": "code",
   "execution_count": 40,
   "metadata": {},
   "outputs": [],
   "source": [
    "# df[df['parts_of_the_day']=='morning'].head(2)"
   ]
  },
  {
   "cell_type": "code",
   "execution_count": 41,
   "metadata": {},
   "outputs": [],
   "source": [
    "# df[df['parts_of_the_day']=='afternoon'].head(2)"
   ]
  },
  {
   "cell_type": "code",
   "execution_count": 42,
   "metadata": {},
   "outputs": [],
   "source": [
    "# df[df['parts_of_the_day']=='evening'].head(3)"
   ]
  },
  {
   "cell_type": "code",
   "execution_count": 43,
   "metadata": {},
   "outputs": [],
   "source": [
    "# df[df['parts_of_the_day']=='night'].head(3)"
   ]
  },
  {
   "cell_type": "markdown",
   "metadata": {},
   "source": [
    "#### Apply `pd.to_datetime`,`format='%H:%M:%S'` and `dt.hour` to convert a `time stamped` string to `time` and create a new column displaying time."
   ]
  },
  {
   "cell_type": "code",
   "execution_count": 44,
   "metadata": {},
   "outputs": [],
   "source": [
    "# df['time']=df['date_purchase'].dt.hour # Use if category timestamped\n",
    "# df.head(2)\n",
    "#==#\n",
    "# df['time']=pd.to_datetime(df['date_purchase'], format='%H:%M:%S').dt.hour # Use if category timestamped\n",
    "# df.head(2)\n",
    "#==#\n",
    "# df['time']=df['date_purchase'].dt.time # Use if category timestamped\n",
    "# df.head(2)\n",
    "#==#\n",
    "# df['time']=pd.to_datetime(df['date_purchase'], format='%H:%M:%S').dt.time # Use if category timestamped\n",
    "# df.head(2)\n",
    "#==#\n",
    "# df['date_purchase'] = pd.to_datetime(df['date_purchase']) # Use if category timestamped\n",
    "# df.head(2)"
   ]
  },
  {
   "cell_type": "markdown",
   "metadata": {},
   "source": [
    "#### Apply `dt.day_name` to convert a string to `day` and create a new column displaying day."
   ]
  },
  {
   "cell_type": "code",
   "execution_count": 45,
   "metadata": {},
   "outputs": [
    {
     "data": {
      "text/html": [
       "<div>\n",
       "<style scoped>\n",
       "    .dataframe tbody tr th:only-of-type {\n",
       "        vertical-align: middle;\n",
       "    }\n",
       "\n",
       "    .dataframe tbody tr th {\n",
       "        vertical-align: top;\n",
       "    }\n",
       "\n",
       "    .dataframe thead th {\n",
       "        text-align: right;\n",
       "    }\n",
       "</style>\n",
       "<table border=\"1\" class=\"dataframe\">\n",
       "  <thead>\n",
       "    <tr style=\"text-align: right;\">\n",
       "      <th></th>\n",
       "      <th>customer_reference_id</th>\n",
       "      <th>item_purchased</th>\n",
       "      <th>purchase_amount_(usd)</th>\n",
       "      <th>date_purchase</th>\n",
       "      <th>review_rating</th>\n",
       "      <th>payment_method</th>\n",
       "      <th>day</th>\n",
       "    </tr>\n",
       "  </thead>\n",
       "  <tbody>\n",
       "    <tr>\n",
       "      <th>0</th>\n",
       "      <td>4018</td>\n",
       "      <td>Handbag</td>\n",
       "      <td>4619.0</td>\n",
       "      <td>2023-02-05</td>\n",
       "      <td>2.0</td>\n",
       "      <td>Credit Card</td>\n",
       "      <td>Sunday</td>\n",
       "    </tr>\n",
       "    <tr>\n",
       "      <th>1</th>\n",
       "      <td>4115</td>\n",
       "      <td>Tunic</td>\n",
       "      <td>2456.0</td>\n",
       "      <td>2023-07-11</td>\n",
       "      <td>2.0</td>\n",
       "      <td>Credit Card</td>\n",
       "      <td>Tuesday</td>\n",
       "    </tr>\n",
       "  </tbody>\n",
       "</table>\n",
       "</div>"
      ],
      "text/plain": [
       "  customer_reference_id item_purchased  purchase_amount_(usd) date_purchase  \\\n",
       "0                  4018        Handbag                 4619.0    2023-02-05   \n",
       "1                  4115          Tunic                 2456.0    2023-07-11   \n",
       "\n",
       "   review_rating payment_method      day  \n",
       "0            2.0    Credit Card   Sunday  \n",
       "1            2.0    Credit Card  Tuesday  "
      ]
     },
     "execution_count": 45,
     "metadata": {},
     "output_type": "execute_result"
    }
   ],
   "source": [
    "df['day']=df['date_purchase'].dt.day_name()\n",
    "df.head(2)"
   ]
  },
  {
   "cell_type": "markdown",
   "metadata": {},
   "source": [
    "#### Apply `dt.month_name` to convert strings to `month` and create a new column displaying month."
   ]
  },
  {
   "cell_type": "code",
   "execution_count": 46,
   "metadata": {},
   "outputs": [
    {
     "data": {
      "text/html": [
       "<div>\n",
       "<style scoped>\n",
       "    .dataframe tbody tr th:only-of-type {\n",
       "        vertical-align: middle;\n",
       "    }\n",
       "\n",
       "    .dataframe tbody tr th {\n",
       "        vertical-align: top;\n",
       "    }\n",
       "\n",
       "    .dataframe thead th {\n",
       "        text-align: right;\n",
       "    }\n",
       "</style>\n",
       "<table border=\"1\" class=\"dataframe\">\n",
       "  <thead>\n",
       "    <tr style=\"text-align: right;\">\n",
       "      <th></th>\n",
       "      <th>customer_reference_id</th>\n",
       "      <th>item_purchased</th>\n",
       "      <th>purchase_amount_(usd)</th>\n",
       "      <th>date_purchase</th>\n",
       "      <th>review_rating</th>\n",
       "      <th>payment_method</th>\n",
       "      <th>day</th>\n",
       "      <th>month</th>\n",
       "    </tr>\n",
       "  </thead>\n",
       "  <tbody>\n",
       "    <tr>\n",
       "      <th>0</th>\n",
       "      <td>4018</td>\n",
       "      <td>Handbag</td>\n",
       "      <td>4619.0</td>\n",
       "      <td>2023-02-05</td>\n",
       "      <td>2.0</td>\n",
       "      <td>Credit Card</td>\n",
       "      <td>Sunday</td>\n",
       "      <td>February</td>\n",
       "    </tr>\n",
       "    <tr>\n",
       "      <th>1</th>\n",
       "      <td>4115</td>\n",
       "      <td>Tunic</td>\n",
       "      <td>2456.0</td>\n",
       "      <td>2023-07-11</td>\n",
       "      <td>2.0</td>\n",
       "      <td>Credit Card</td>\n",
       "      <td>Tuesday</td>\n",
       "      <td>July</td>\n",
       "    </tr>\n",
       "  </tbody>\n",
       "</table>\n",
       "</div>"
      ],
      "text/plain": [
       "  customer_reference_id item_purchased  purchase_amount_(usd) date_purchase  \\\n",
       "0                  4018        Handbag                 4619.0    2023-02-05   \n",
       "1                  4115          Tunic                 2456.0    2023-07-11   \n",
       "\n",
       "   review_rating payment_method      day     month  \n",
       "0            2.0    Credit Card   Sunday  February  \n",
       "1            2.0    Credit Card  Tuesday      July  "
      ]
     },
     "execution_count": 46,
     "metadata": {},
     "output_type": "execute_result"
    }
   ],
   "source": [
    "df['month']=df['date_purchase'].dt.month_name()\n",
    "df.head(2)"
   ]
  },
  {
   "cell_type": "markdown",
   "metadata": {},
   "source": [
    "#### Apply `dt.strftime` to convert strings to `year` and create a new column displaying year."
   ]
  },
  {
   "cell_type": "code",
   "execution_count": 47,
   "metadata": {},
   "outputs": [
    {
     "data": {
      "text/html": [
       "<div>\n",
       "<style scoped>\n",
       "    .dataframe tbody tr th:only-of-type {\n",
       "        vertical-align: middle;\n",
       "    }\n",
       "\n",
       "    .dataframe tbody tr th {\n",
       "        vertical-align: top;\n",
       "    }\n",
       "\n",
       "    .dataframe thead th {\n",
       "        text-align: right;\n",
       "    }\n",
       "</style>\n",
       "<table border=\"1\" class=\"dataframe\">\n",
       "  <thead>\n",
       "    <tr style=\"text-align: right;\">\n",
       "      <th></th>\n",
       "      <th>customer_reference_id</th>\n",
       "      <th>item_purchased</th>\n",
       "      <th>purchase_amount_(usd)</th>\n",
       "      <th>date_purchase</th>\n",
       "      <th>review_rating</th>\n",
       "      <th>payment_method</th>\n",
       "      <th>day</th>\n",
       "      <th>month</th>\n",
       "      <th>year</th>\n",
       "    </tr>\n",
       "  </thead>\n",
       "  <tbody>\n",
       "    <tr>\n",
       "      <th>0</th>\n",
       "      <td>4018</td>\n",
       "      <td>Handbag</td>\n",
       "      <td>4619.0</td>\n",
       "      <td>2023-02-05</td>\n",
       "      <td>2.0</td>\n",
       "      <td>Credit Card</td>\n",
       "      <td>Sunday</td>\n",
       "      <td>February</td>\n",
       "      <td>2023</td>\n",
       "    </tr>\n",
       "    <tr>\n",
       "      <th>1</th>\n",
       "      <td>4115</td>\n",
       "      <td>Tunic</td>\n",
       "      <td>2456.0</td>\n",
       "      <td>2023-07-11</td>\n",
       "      <td>2.0</td>\n",
       "      <td>Credit Card</td>\n",
       "      <td>Tuesday</td>\n",
       "      <td>July</td>\n",
       "      <td>2023</td>\n",
       "    </tr>\n",
       "  </tbody>\n",
       "</table>\n",
       "</div>"
      ],
      "text/plain": [
       "  customer_reference_id item_purchased  purchase_amount_(usd) date_purchase  \\\n",
       "0                  4018        Handbag                 4619.0    2023-02-05   \n",
       "1                  4115          Tunic                 2456.0    2023-07-11   \n",
       "\n",
       "   review_rating payment_method      day     month  year  \n",
       "0            2.0    Credit Card   Sunday  February  2023  \n",
       "1            2.0    Credit Card  Tuesday      July  2023  "
      ]
     },
     "execution_count": 47,
     "metadata": {},
     "output_type": "execute_result"
    }
   ],
   "source": [
    "df['year']=df['date_purchase'].dt.strftime('%Y')\n",
    "df.head(2)"
   ]
  },
  {
   "cell_type": "markdown",
   "metadata": {},
   "source": [
    "#### Apply `pd.PeriodIndex`,`df.hour` and `fre='Q'` to convert a string to `quarter` and create a new column displaying quarter."
   ]
  },
  {
   "cell_type": "code",
   "execution_count": 48,
   "metadata": {},
   "outputs": [
    {
     "data": {
      "text/html": [
       "<div>\n",
       "<style scoped>\n",
       "    .dataframe tbody tr th:only-of-type {\n",
       "        vertical-align: middle;\n",
       "    }\n",
       "\n",
       "    .dataframe tbody tr th {\n",
       "        vertical-align: top;\n",
       "    }\n",
       "\n",
       "    .dataframe thead th {\n",
       "        text-align: right;\n",
       "    }\n",
       "</style>\n",
       "<table border=\"1\" class=\"dataframe\">\n",
       "  <thead>\n",
       "    <tr style=\"text-align: right;\">\n",
       "      <th></th>\n",
       "      <th>customer_reference_id</th>\n",
       "      <th>item_purchased</th>\n",
       "      <th>purchase_amount_(usd)</th>\n",
       "      <th>date_purchase</th>\n",
       "      <th>review_rating</th>\n",
       "      <th>payment_method</th>\n",
       "      <th>day</th>\n",
       "      <th>month</th>\n",
       "      <th>year</th>\n",
       "      <th>quarter</th>\n",
       "    </tr>\n",
       "  </thead>\n",
       "  <tbody>\n",
       "    <tr>\n",
       "      <th>0</th>\n",
       "      <td>4018</td>\n",
       "      <td>Handbag</td>\n",
       "      <td>4619.0</td>\n",
       "      <td>2023-02-05</td>\n",
       "      <td>2.0</td>\n",
       "      <td>Credit Card</td>\n",
       "      <td>Sunday</td>\n",
       "      <td>February</td>\n",
       "      <td>2023</td>\n",
       "      <td>2023Q1</td>\n",
       "    </tr>\n",
       "    <tr>\n",
       "      <th>1</th>\n",
       "      <td>4115</td>\n",
       "      <td>Tunic</td>\n",
       "      <td>2456.0</td>\n",
       "      <td>2023-07-11</td>\n",
       "      <td>2.0</td>\n",
       "      <td>Credit Card</td>\n",
       "      <td>Tuesday</td>\n",
       "      <td>July</td>\n",
       "      <td>2023</td>\n",
       "      <td>2023Q3</td>\n",
       "    </tr>\n",
       "  </tbody>\n",
       "</table>\n",
       "</div>"
      ],
      "text/plain": [
       "  customer_reference_id item_purchased  purchase_amount_(usd) date_purchase  \\\n",
       "0                  4018        Handbag                 4619.0    2023-02-05   \n",
       "1                  4115          Tunic                 2456.0    2023-07-11   \n",
       "\n",
       "   review_rating payment_method      day     month  year quarter  \n",
       "0            2.0    Credit Card   Sunday  February  2023  2023Q1  \n",
       "1            2.0    Credit Card  Tuesday      July  2023  2023Q3  "
      ]
     },
     "execution_count": 48,
     "metadata": {},
     "output_type": "execute_result"
    }
   ],
   "source": [
    "df['quarter'] = pd.PeriodIndex(df['date_purchase'], freq='Q')\n",
    "df.head(2)"
   ]
  },
  {
   "cell_type": "markdown",
   "metadata": {},
   "source": [
    "#### Apply `dt.quarter`,`.map()` and `lambda q: f'Q{q}'` to convert a `time stamped` string to `quarter_label` and create a new column displaying quarter_label."
   ]
  },
  {
   "cell_type": "code",
   "execution_count": 49,
   "metadata": {},
   "outputs": [],
   "source": [
    "# df['quarter_label'] = df['date'].dt.quarter.map(lambda q: f'Q{q}')\n",
    "# df.head(2)"
   ]
  },
  {
   "cell_type": "markdown",
   "metadata": {},
   "source": [
    "#### Apply `dt.quarter`,`.map()` and `lambda q: f'Q{q}'` to convert a string to `quarter_label` and create a new column displaying quarter_label."
   ]
  },
  {
   "cell_type": "code",
   "execution_count": 50,
   "metadata": {},
   "outputs": [
    {
     "data": {
      "text/html": [
       "<div>\n",
       "<style scoped>\n",
       "    .dataframe tbody tr th:only-of-type {\n",
       "        vertical-align: middle;\n",
       "    }\n",
       "\n",
       "    .dataframe tbody tr th {\n",
       "        vertical-align: top;\n",
       "    }\n",
       "\n",
       "    .dataframe thead th {\n",
       "        text-align: right;\n",
       "    }\n",
       "</style>\n",
       "<table border=\"1\" class=\"dataframe\">\n",
       "  <thead>\n",
       "    <tr style=\"text-align: right;\">\n",
       "      <th></th>\n",
       "      <th>customer_reference_id</th>\n",
       "      <th>item_purchased</th>\n",
       "      <th>purchase_amount_(usd)</th>\n",
       "      <th>date_purchase</th>\n",
       "      <th>review_rating</th>\n",
       "      <th>payment_method</th>\n",
       "      <th>day</th>\n",
       "      <th>month</th>\n",
       "      <th>year</th>\n",
       "      <th>quarter</th>\n",
       "      <th>quarter_label</th>\n",
       "    </tr>\n",
       "  </thead>\n",
       "  <tbody>\n",
       "    <tr>\n",
       "      <th>0</th>\n",
       "      <td>4018</td>\n",
       "      <td>Handbag</td>\n",
       "      <td>4619.0</td>\n",
       "      <td>2023-02-05</td>\n",
       "      <td>2.0</td>\n",
       "      <td>Credit Card</td>\n",
       "      <td>Sunday</td>\n",
       "      <td>February</td>\n",
       "      <td>2023</td>\n",
       "      <td>2023Q1</td>\n",
       "      <td>Q1</td>\n",
       "    </tr>\n",
       "    <tr>\n",
       "      <th>1</th>\n",
       "      <td>4115</td>\n",
       "      <td>Tunic</td>\n",
       "      <td>2456.0</td>\n",
       "      <td>2023-07-11</td>\n",
       "      <td>2.0</td>\n",
       "      <td>Credit Card</td>\n",
       "      <td>Tuesday</td>\n",
       "      <td>July</td>\n",
       "      <td>2023</td>\n",
       "      <td>2023Q3</td>\n",
       "      <td>Q3</td>\n",
       "    </tr>\n",
       "  </tbody>\n",
       "</table>\n",
       "</div>"
      ],
      "text/plain": [
       "  customer_reference_id item_purchased  purchase_amount_(usd) date_purchase  \\\n",
       "0                  4018        Handbag                 4619.0    2023-02-05   \n",
       "1                  4115          Tunic                 2456.0    2023-07-11   \n",
       "\n",
       "   review_rating payment_method      day     month  year quarter quarter_label  \n",
       "0            2.0    Credit Card   Sunday  February  2023  2023Q1            Q1  \n",
       "1            2.0    Credit Card  Tuesday      July  2023  2023Q3            Q3  "
      ]
     },
     "execution_count": 50,
     "metadata": {},
     "output_type": "execute_result"
    }
   ],
   "source": [
    "df['quarter_label'] = df['date_purchase'].dt.quarter.map(lambda q: f'Q{q}')\n",
    "df.head(2)"
   ]
  },
  {
   "cell_type": "markdown",
   "metadata": {},
   "source": [
    "#### Apply `dt.strftime` to convert strings to `day_month` and create a new column displaying day_month."
   ]
  },
  {
   "cell_type": "code",
   "execution_count": 51,
   "metadata": {},
   "outputs": [
    {
     "data": {
      "text/html": [
       "<div>\n",
       "<style scoped>\n",
       "    .dataframe tbody tr th:only-of-type {\n",
       "        vertical-align: middle;\n",
       "    }\n",
       "\n",
       "    .dataframe tbody tr th {\n",
       "        vertical-align: top;\n",
       "    }\n",
       "\n",
       "    .dataframe thead th {\n",
       "        text-align: right;\n",
       "    }\n",
       "</style>\n",
       "<table border=\"1\" class=\"dataframe\">\n",
       "  <thead>\n",
       "    <tr style=\"text-align: right;\">\n",
       "      <th></th>\n",
       "      <th>customer_reference_id</th>\n",
       "      <th>item_purchased</th>\n",
       "      <th>purchase_amount_(usd)</th>\n",
       "      <th>date_purchase</th>\n",
       "      <th>review_rating</th>\n",
       "      <th>payment_method</th>\n",
       "      <th>day</th>\n",
       "      <th>month</th>\n",
       "      <th>year</th>\n",
       "      <th>quarter</th>\n",
       "      <th>quarter_label</th>\n",
       "      <th>day_month</th>\n",
       "    </tr>\n",
       "  </thead>\n",
       "  <tbody>\n",
       "    <tr>\n",
       "      <th>0</th>\n",
       "      <td>4018</td>\n",
       "      <td>Handbag</td>\n",
       "      <td>4619.0</td>\n",
       "      <td>2023-02-05</td>\n",
       "      <td>2.0</td>\n",
       "      <td>Credit Card</td>\n",
       "      <td>Sunday</td>\n",
       "      <td>February</td>\n",
       "      <td>2023</td>\n",
       "      <td>2023Q1</td>\n",
       "      <td>Q1</td>\n",
       "      <td>Sun_Feb</td>\n",
       "    </tr>\n",
       "    <tr>\n",
       "      <th>1</th>\n",
       "      <td>4115</td>\n",
       "      <td>Tunic</td>\n",
       "      <td>2456.0</td>\n",
       "      <td>2023-07-11</td>\n",
       "      <td>2.0</td>\n",
       "      <td>Credit Card</td>\n",
       "      <td>Tuesday</td>\n",
       "      <td>July</td>\n",
       "      <td>2023</td>\n",
       "      <td>2023Q3</td>\n",
       "      <td>Q3</td>\n",
       "      <td>Tue_Jul</td>\n",
       "    </tr>\n",
       "  </tbody>\n",
       "</table>\n",
       "</div>"
      ],
      "text/plain": [
       "  customer_reference_id item_purchased  purchase_amount_(usd) date_purchase  \\\n",
       "0                  4018        Handbag                 4619.0    2023-02-05   \n",
       "1                  4115          Tunic                 2456.0    2023-07-11   \n",
       "\n",
       "   review_rating payment_method      day     month  year quarter  \\\n",
       "0            2.0    Credit Card   Sunday  February  2023  2023Q1   \n",
       "1            2.0    Credit Card  Tuesday      July  2023  2023Q3   \n",
       "\n",
       "  quarter_label day_month  \n",
       "0            Q1   Sun_Feb  \n",
       "1            Q3   Tue_Jul  "
      ]
     },
     "execution_count": 51,
     "metadata": {},
     "output_type": "execute_result"
    }
   ],
   "source": [
    "df['day_month']=df['date_purchase'].dt.strftime('%a_%b')\n",
    "df.head(2)"
   ]
  },
  {
   "cell_type": "markdown",
   "metadata": {},
   "source": [
    "#### Appl `dt.strftime` to convert strings to `day_year` and create a new column displaying day_year."
   ]
  },
  {
   "cell_type": "code",
   "execution_count": 52,
   "metadata": {},
   "outputs": [
    {
     "data": {
      "text/html": [
       "<div>\n",
       "<style scoped>\n",
       "    .dataframe tbody tr th:only-of-type {\n",
       "        vertical-align: middle;\n",
       "    }\n",
       "\n",
       "    .dataframe tbody tr th {\n",
       "        vertical-align: top;\n",
       "    }\n",
       "\n",
       "    .dataframe thead th {\n",
       "        text-align: right;\n",
       "    }\n",
       "</style>\n",
       "<table border=\"1\" class=\"dataframe\">\n",
       "  <thead>\n",
       "    <tr style=\"text-align: right;\">\n",
       "      <th></th>\n",
       "      <th>customer_reference_id</th>\n",
       "      <th>item_purchased</th>\n",
       "      <th>purchase_amount_(usd)</th>\n",
       "      <th>date_purchase</th>\n",
       "      <th>review_rating</th>\n",
       "      <th>payment_method</th>\n",
       "      <th>day</th>\n",
       "      <th>month</th>\n",
       "      <th>year</th>\n",
       "      <th>quarter</th>\n",
       "      <th>quarter_label</th>\n",
       "      <th>day_month</th>\n",
       "      <th>day_year</th>\n",
       "    </tr>\n",
       "  </thead>\n",
       "  <tbody>\n",
       "    <tr>\n",
       "      <th>0</th>\n",
       "      <td>4018</td>\n",
       "      <td>Handbag</td>\n",
       "      <td>4619.0</td>\n",
       "      <td>2023-02-05</td>\n",
       "      <td>2.0</td>\n",
       "      <td>Credit Card</td>\n",
       "      <td>Sunday</td>\n",
       "      <td>February</td>\n",
       "      <td>2023</td>\n",
       "      <td>2023Q1</td>\n",
       "      <td>Q1</td>\n",
       "      <td>Sun_Feb</td>\n",
       "      <td>Sun_2023</td>\n",
       "    </tr>\n",
       "    <tr>\n",
       "      <th>1</th>\n",
       "      <td>4115</td>\n",
       "      <td>Tunic</td>\n",
       "      <td>2456.0</td>\n",
       "      <td>2023-07-11</td>\n",
       "      <td>2.0</td>\n",
       "      <td>Credit Card</td>\n",
       "      <td>Tuesday</td>\n",
       "      <td>July</td>\n",
       "      <td>2023</td>\n",
       "      <td>2023Q3</td>\n",
       "      <td>Q3</td>\n",
       "      <td>Tue_Jul</td>\n",
       "      <td>Tue_2023</td>\n",
       "    </tr>\n",
       "  </tbody>\n",
       "</table>\n",
       "</div>"
      ],
      "text/plain": [
       "  customer_reference_id item_purchased  purchase_amount_(usd) date_purchase  \\\n",
       "0                  4018        Handbag                 4619.0    2023-02-05   \n",
       "1                  4115          Tunic                 2456.0    2023-07-11   \n",
       "\n",
       "   review_rating payment_method      day     month  year quarter  \\\n",
       "0            2.0    Credit Card   Sunday  February  2023  2023Q1   \n",
       "1            2.0    Credit Card  Tuesday      July  2023  2023Q3   \n",
       "\n",
       "  quarter_label day_month  day_year  \n",
       "0            Q1   Sun_Feb  Sun_2023  \n",
       "1            Q3   Tue_Jul  Tue_2023  "
      ]
     },
     "execution_count": 52,
     "metadata": {},
     "output_type": "execute_result"
    }
   ],
   "source": [
    "df['day_year']=df['date_purchase'].dt.strftime('%a_%Y')\n",
    "df.head(2)"
   ]
  },
  {
   "cell_type": "markdown",
   "metadata": {},
   "source": [
    "#### Apply `dt.strftime` to convert strings to `month-year` and create a new column displaying month_year."
   ]
  },
  {
   "cell_type": "code",
   "execution_count": 53,
   "metadata": {},
   "outputs": [
    {
     "data": {
      "text/html": [
       "<div>\n",
       "<style scoped>\n",
       "    .dataframe tbody tr th:only-of-type {\n",
       "        vertical-align: middle;\n",
       "    }\n",
       "\n",
       "    .dataframe tbody tr th {\n",
       "        vertical-align: top;\n",
       "    }\n",
       "\n",
       "    .dataframe thead th {\n",
       "        text-align: right;\n",
       "    }\n",
       "</style>\n",
       "<table border=\"1\" class=\"dataframe\">\n",
       "  <thead>\n",
       "    <tr style=\"text-align: right;\">\n",
       "      <th></th>\n",
       "      <th>customer_reference_id</th>\n",
       "      <th>item_purchased</th>\n",
       "      <th>purchase_amount_(usd)</th>\n",
       "      <th>date_purchase</th>\n",
       "      <th>review_rating</th>\n",
       "      <th>payment_method</th>\n",
       "      <th>day</th>\n",
       "      <th>month</th>\n",
       "      <th>year</th>\n",
       "      <th>quarter</th>\n",
       "      <th>quarter_label</th>\n",
       "      <th>day_month</th>\n",
       "      <th>day_year</th>\n",
       "      <th>month_year</th>\n",
       "    </tr>\n",
       "  </thead>\n",
       "  <tbody>\n",
       "    <tr>\n",
       "      <th>0</th>\n",
       "      <td>4018</td>\n",
       "      <td>Handbag</td>\n",
       "      <td>4619.0</td>\n",
       "      <td>2023-02-05</td>\n",
       "      <td>2.0</td>\n",
       "      <td>Credit Card</td>\n",
       "      <td>Sunday</td>\n",
       "      <td>February</td>\n",
       "      <td>2023</td>\n",
       "      <td>2023Q1</td>\n",
       "      <td>Q1</td>\n",
       "      <td>Sun_Feb</td>\n",
       "      <td>Sun_2023</td>\n",
       "      <td>Feb_2023</td>\n",
       "    </tr>\n",
       "    <tr>\n",
       "      <th>1</th>\n",
       "      <td>4115</td>\n",
       "      <td>Tunic</td>\n",
       "      <td>2456.0</td>\n",
       "      <td>2023-07-11</td>\n",
       "      <td>2.0</td>\n",
       "      <td>Credit Card</td>\n",
       "      <td>Tuesday</td>\n",
       "      <td>July</td>\n",
       "      <td>2023</td>\n",
       "      <td>2023Q3</td>\n",
       "      <td>Q3</td>\n",
       "      <td>Tue_Jul</td>\n",
       "      <td>Tue_2023</td>\n",
       "      <td>Jul_2023</td>\n",
       "    </tr>\n",
       "  </tbody>\n",
       "</table>\n",
       "</div>"
      ],
      "text/plain": [
       "  customer_reference_id item_purchased  purchase_amount_(usd) date_purchase  \\\n",
       "0                  4018        Handbag                 4619.0    2023-02-05   \n",
       "1                  4115          Tunic                 2456.0    2023-07-11   \n",
       "\n",
       "   review_rating payment_method      day     month  year quarter  \\\n",
       "0            2.0    Credit Card   Sunday  February  2023  2023Q1   \n",
       "1            2.0    Credit Card  Tuesday      July  2023  2023Q3   \n",
       "\n",
       "  quarter_label day_month  day_year month_year  \n",
       "0            Q1   Sun_Feb  Sun_2023   Feb_2023  \n",
       "1            Q3   Tue_Jul  Tue_2023   Jul_2023  "
      ]
     },
     "execution_count": 53,
     "metadata": {},
     "output_type": "execute_result"
    }
   ],
   "source": [
    "df['month_year']=df['date_purchase'].dt.strftime('%b_%Y')\n",
    "df.head(2)"
   ]
  },
  {
   "cell_type": "markdown",
   "metadata": {},
   "source": [
    "#### Apply `dt.strftime` to convert strings to `day_month_year` and create a new column displaying day_month_year."
   ]
  },
  {
   "cell_type": "code",
   "execution_count": 54,
   "metadata": {},
   "outputs": [
    {
     "data": {
      "text/html": [
       "<div>\n",
       "<style scoped>\n",
       "    .dataframe tbody tr th:only-of-type {\n",
       "        vertical-align: middle;\n",
       "    }\n",
       "\n",
       "    .dataframe tbody tr th {\n",
       "        vertical-align: top;\n",
       "    }\n",
       "\n",
       "    .dataframe thead th {\n",
       "        text-align: right;\n",
       "    }\n",
       "</style>\n",
       "<table border=\"1\" class=\"dataframe\">\n",
       "  <thead>\n",
       "    <tr style=\"text-align: right;\">\n",
       "      <th></th>\n",
       "      <th>customer_reference_id</th>\n",
       "      <th>item_purchased</th>\n",
       "      <th>purchase_amount_(usd)</th>\n",
       "      <th>date_purchase</th>\n",
       "      <th>review_rating</th>\n",
       "      <th>payment_method</th>\n",
       "      <th>day</th>\n",
       "      <th>month</th>\n",
       "      <th>year</th>\n",
       "      <th>quarter</th>\n",
       "      <th>quarter_label</th>\n",
       "      <th>day_month</th>\n",
       "      <th>day_year</th>\n",
       "      <th>month_year</th>\n",
       "      <th>day_month_year</th>\n",
       "    </tr>\n",
       "  </thead>\n",
       "  <tbody>\n",
       "    <tr>\n",
       "      <th>0</th>\n",
       "      <td>4018</td>\n",
       "      <td>Handbag</td>\n",
       "      <td>4619.0</td>\n",
       "      <td>2023-02-05</td>\n",
       "      <td>2.0</td>\n",
       "      <td>Credit Card</td>\n",
       "      <td>Sunday</td>\n",
       "      <td>February</td>\n",
       "      <td>2023</td>\n",
       "      <td>2023Q1</td>\n",
       "      <td>Q1</td>\n",
       "      <td>Sun_Feb</td>\n",
       "      <td>Sun_2023</td>\n",
       "      <td>Feb_2023</td>\n",
       "      <td>Sun_Feb_2023</td>\n",
       "    </tr>\n",
       "    <tr>\n",
       "      <th>1</th>\n",
       "      <td>4115</td>\n",
       "      <td>Tunic</td>\n",
       "      <td>2456.0</td>\n",
       "      <td>2023-07-11</td>\n",
       "      <td>2.0</td>\n",
       "      <td>Credit Card</td>\n",
       "      <td>Tuesday</td>\n",
       "      <td>July</td>\n",
       "      <td>2023</td>\n",
       "      <td>2023Q3</td>\n",
       "      <td>Q3</td>\n",
       "      <td>Tue_Jul</td>\n",
       "      <td>Tue_2023</td>\n",
       "      <td>Jul_2023</td>\n",
       "      <td>Tue_Jul_2023</td>\n",
       "    </tr>\n",
       "  </tbody>\n",
       "</table>\n",
       "</div>"
      ],
      "text/plain": [
       "  customer_reference_id item_purchased  purchase_amount_(usd) date_purchase  \\\n",
       "0                  4018        Handbag                 4619.0    2023-02-05   \n",
       "1                  4115          Tunic                 2456.0    2023-07-11   \n",
       "\n",
       "   review_rating payment_method      day     month  year quarter  \\\n",
       "0            2.0    Credit Card   Sunday  February  2023  2023Q1   \n",
       "1            2.0    Credit Card  Tuesday      July  2023  2023Q3   \n",
       "\n",
       "  quarter_label day_month  day_year month_year day_month_year  \n",
       "0            Q1   Sun_Feb  Sun_2023   Feb_2023   Sun_Feb_2023  \n",
       "1            Q3   Tue_Jul  Tue_2023   Jul_2023   Tue_Jul_2023  "
      ]
     },
     "execution_count": 54,
     "metadata": {},
     "output_type": "execute_result"
    }
   ],
   "source": [
    "df['day_month_year']=df['date_purchase'].dt.strftime('%a_%b_%Y')\n",
    "df.head(2)"
   ]
  },
  {
   "cell_type": "markdown",
   "metadata": {},
   "source": [
    "#### Apply `dt.strftime` to convert strings to `month_day_year` and create a new column displaying month_day_year."
   ]
  },
  {
   "cell_type": "code",
   "execution_count": 55,
   "metadata": {},
   "outputs": [
    {
     "data": {
      "text/html": [
       "<div>\n",
       "<style scoped>\n",
       "    .dataframe tbody tr th:only-of-type {\n",
       "        vertical-align: middle;\n",
       "    }\n",
       "\n",
       "    .dataframe tbody tr th {\n",
       "        vertical-align: top;\n",
       "    }\n",
       "\n",
       "    .dataframe thead th {\n",
       "        text-align: right;\n",
       "    }\n",
       "</style>\n",
       "<table border=\"1\" class=\"dataframe\">\n",
       "  <thead>\n",
       "    <tr style=\"text-align: right;\">\n",
       "      <th></th>\n",
       "      <th>customer_reference_id</th>\n",
       "      <th>item_purchased</th>\n",
       "      <th>purchase_amount_(usd)</th>\n",
       "      <th>date_purchase</th>\n",
       "      <th>review_rating</th>\n",
       "      <th>payment_method</th>\n",
       "      <th>day</th>\n",
       "      <th>month</th>\n",
       "      <th>year</th>\n",
       "      <th>quarter</th>\n",
       "      <th>quarter_label</th>\n",
       "      <th>day_month</th>\n",
       "      <th>day_year</th>\n",
       "      <th>month_year</th>\n",
       "      <th>day_month_year</th>\n",
       "      <th>month_day_year</th>\n",
       "    </tr>\n",
       "  </thead>\n",
       "  <tbody>\n",
       "    <tr>\n",
       "      <th>0</th>\n",
       "      <td>4018</td>\n",
       "      <td>Handbag</td>\n",
       "      <td>4619.0</td>\n",
       "      <td>2023-02-05</td>\n",
       "      <td>2.0</td>\n",
       "      <td>Credit Card</td>\n",
       "      <td>Sunday</td>\n",
       "      <td>February</td>\n",
       "      <td>2023</td>\n",
       "      <td>2023Q1</td>\n",
       "      <td>Q1</td>\n",
       "      <td>Sun_Feb</td>\n",
       "      <td>Sun_2023</td>\n",
       "      <td>Feb_2023</td>\n",
       "      <td>Sun_Feb_2023</td>\n",
       "      <td>Feb_Sun_2023</td>\n",
       "    </tr>\n",
       "    <tr>\n",
       "      <th>1</th>\n",
       "      <td>4115</td>\n",
       "      <td>Tunic</td>\n",
       "      <td>2456.0</td>\n",
       "      <td>2023-07-11</td>\n",
       "      <td>2.0</td>\n",
       "      <td>Credit Card</td>\n",
       "      <td>Tuesday</td>\n",
       "      <td>July</td>\n",
       "      <td>2023</td>\n",
       "      <td>2023Q3</td>\n",
       "      <td>Q3</td>\n",
       "      <td>Tue_Jul</td>\n",
       "      <td>Tue_2023</td>\n",
       "      <td>Jul_2023</td>\n",
       "      <td>Tue_Jul_2023</td>\n",
       "      <td>Jul_Tue_2023</td>\n",
       "    </tr>\n",
       "  </tbody>\n",
       "</table>\n",
       "</div>"
      ],
      "text/plain": [
       "  customer_reference_id item_purchased  purchase_amount_(usd) date_purchase  \\\n",
       "0                  4018        Handbag                 4619.0    2023-02-05   \n",
       "1                  4115          Tunic                 2456.0    2023-07-11   \n",
       "\n",
       "   review_rating payment_method      day     month  year quarter  \\\n",
       "0            2.0    Credit Card   Sunday  February  2023  2023Q1   \n",
       "1            2.0    Credit Card  Tuesday      July  2023  2023Q3   \n",
       "\n",
       "  quarter_label day_month  day_year month_year day_month_year month_day_year  \n",
       "0            Q1   Sun_Feb  Sun_2023   Feb_2023   Sun_Feb_2023   Feb_Sun_2023  \n",
       "1            Q3   Tue_Jul  Tue_2023   Jul_2023   Tue_Jul_2023   Jul_Tue_2023  "
      ]
     },
     "execution_count": 55,
     "metadata": {},
     "output_type": "execute_result"
    }
   ],
   "source": [
    "df['month_day_year']=df['date_purchase'].dt.strftime('%b_%a_%Y')\n",
    "df.head(2)"
   ]
  },
  {
   "cell_type": "markdown",
   "metadata": {},
   "source": [
    "#### Apply `.map()` to rename dataframe values in specified column(s)."
   ]
  },
  {
   "cell_type": "code",
   "execution_count": 56,
   "metadata": {},
   "outputs": [],
   "source": [
    "# # Rename dataframe values in a specified column.\n",
    "# renamed_apict_values  = {'Buy Button':'Buy','Draft Orders':'Draft','GUSTATORY':'Gusta','Online Store':'Online',\n",
    "#             'Recurring Billing by Recharge':'RcBiByRec','Syncio Multi Store Sync':'Sync','Wholesale':'WhSale'}\n",
    "\n",
    "# # Apply changes to the specified columns\n",
    "# df['api_client_title'] = df['api_client_title'].map(renamed_apict_values)\n",
    "# # df['X'] = df['X'].map(X)\n",
    "# # df['X'] = df['X'].map(X)\n",
    "\n",
    "# df.head(2)"
   ]
  },
  {
   "cell_type": "markdown",
   "metadata": {},
   "source": [
    "#### Apply `.sample()` to review the values in the modified column(s)."
   ]
  },
  {
   "cell_type": "code",
   "execution_count": 57,
   "metadata": {},
   "outputs": [],
   "source": [
    "# df.loc[:,'api_client_title'].sample(5).to_frame()\n",
    "# # df['api_client_title'].sample(5).to_frame()"
   ]
  },
  {
   "cell_type": "markdown",
   "metadata": {},
   "source": [
    "#### Apply `.unique()`, `.sorted()` & `print` to sort & display unique dataframe values in a specified column in `ascending` and `descending` order."
   ]
  },
  {
   "cell_type": "code",
   "execution_count": 58,
   "metadata": {},
   "outputs": [],
   "source": [
    "# unique_apict_values = df['api_client_title'].unique()\n",
    "# asc_order = print(sorted(unique_apict_values)) # Ascending order.\n",
    "# desc_order = print(sorted(unique_apict_values,reverse=True)) # Descending order."
   ]
  },
  {
   "cell_type": "markdown",
   "metadata": {},
   "source": [
    "# `Remove negative values in the rows of a column/columns`."
   ]
  },
  {
   "cell_type": "markdown",
   "metadata": {},
   "source": [
    "#### `Filter the rows of the DataFrame such that only the rows where all the specified columns ('net_quantity' to 'total_sales') have values GREATER THAN 0 are kept`."
   ]
  },
  {
   "cell_type": "code",
   "execution_count": 59,
   "metadata": {},
   "outputs": [],
   "source": [
    "# ctf = ['net_quantity', 'gross_sales', 'discounts', 'returns', 'net_sales', 'shipping', 'taxes', 'total_sales'] # Columns to filter\n",
    "\n",
    "# df[(df[ctf] > 0).all(axis=1)] # Filter rows where all specified columns have values greater than 0\n",
    "\n",
    "# df.head(3)"
   ]
  },
  {
   "cell_type": "markdown",
   "metadata": {},
   "source": [
    "#### `Filter the rows of the DataFrame such that only the rows where all the specified columns ('net_quantity' to 'total_sales') have values LESS THAN 0 are kept`."
   ]
  },
  {
   "cell_type": "code",
   "execution_count": 60,
   "metadata": {},
   "outputs": [],
   "source": [
    "# ctf = ['net_quantity', 'gross_sales', 'discounts', 'returns', 'net_sales', 'shipping', 'taxes', 'total_sales'] # Columns to filter\n",
    "\n",
    "# df[(df[ctf] < 0).all(axis=1)] # Filter rows where all specified columns have values greater than 0\n",
    "\n",
    "# df.head(3)"
   ]
  },
  {
   "cell_type": "markdown",
   "metadata": {},
   "source": [
    "#### `Display rows of columns with numeric values of interest`."
   ]
  },
  {
   "cell_type": "code",
   "execution_count": 61,
   "metadata": {},
   "outputs": [],
   "source": [
    "# df.loc[:, 'net_quantity':'total_sales']"
   ]
  },
  {
   "cell_type": "markdown",
   "metadata": {},
   "source": [
    "#### `Display rows of 'total_sales' column with negative values`."
   ]
  },
  {
   "cell_type": "code",
   "execution_count": 62,
   "metadata": {},
   "outputs": [],
   "source": [
    "# df[df['total_sales']<0].loc[:,'total_sales'].to_frame()\n",
    "# # df.loc[:,'total_sales'].to_frame()"
   ]
  },
  {
   "cell_type": "markdown",
   "metadata": {},
   "source": [
    "#### `Replace negative values in rows of a single column with 0 - Option 1`.  "
   ]
  },
  {
   "cell_type": "code",
   "execution_count": 63,
   "metadata": {},
   "outputs": [],
   "source": [
    "# df['total_sales'] = df['total_sales'].map(lambda x: x if x > 0 else 0)\n",
    "\n",
    "# df[df['total_sales']<0].loc[:,'total_sales'].to_frame()\n",
    "\n",
    "# if (df['total_sales'] < 0).any():\n",
    "#     print(\"There are still negative values in 'total_sales'.\")\n",
    "# else:\n",
    "#     print(\"All negative values in the 'total_sales' column have been replaced with 0.\")"
   ]
  },
  {
   "cell_type": "markdown",
   "metadata": {},
   "source": [
    "#### `Replace negative values in rows of a single column with 0 - Option 2`."
   ]
  },
  {
   "cell_type": "code",
   "execution_count": 64,
   "metadata": {},
   "outputs": [],
   "source": [
    "# df[df['total_sales']<0].loc[:,'total_sales'] = 0 # Replace negative values with 0.\n",
    "# df[df['total_sales']<0].loc[:,'total_sales'].to_frame() # Check for update.\n",
    "\n",
    "# if (df['total_sales'] < 0).any():\n",
    "#     print(\"There are still negative values in 'total_sales'.\")\n",
    "# else:\n",
    "#     print(\"All negative values in the 'total_sales' column have been replaced with 0.\")"
   ]
  },
  {
   "cell_type": "markdown",
   "metadata": {},
   "source": [
    "#### `Replace negative values in rows of several columns with 0`."
   ]
  },
  {
   "cell_type": "code",
   "execution_count": 65,
   "metadata": {},
   "outputs": [],
   "source": [
    "# cwnv = ['net_quantity', 'gross_sales', 'discounts', 'returns', 'net_sales', 'shipping', 'taxes', 'total_sales'] # Columns to filter\n",
    "\n",
    "# df[cwnv] = df[cwnv].map(lambda x: x if x > 0 else 0) # Filter values, keeping only those greater than 0\n",
    "\n",
    "# df.loc[:, cwnv] # Check for update.\n",
    "\n",
    "# # Verify if any negative values remain\n",
    "# if (df[cwnv] < 0).values.any():\n",
    "#     print(\"There are still negative values in 'cwnv' columns.\")\n",
    "# else:\n",
    "#     print(\"All negative values in the 'cwnv' columns have been replaced with 0.\")\n"
   ]
  },
  {
   "cell_type": "markdown",
   "metadata": {},
   "source": [
    "#### `Temporarily replace negative values in rows of several columns with 0`."
   ]
  },
  {
   "cell_type": "code",
   "execution_count": 66,
   "metadata": {},
   "outputs": [],
   "source": [
    "# df.loc[:, 'net_quantity':'total_sales'].applymap(lambda x: x if x > 0 else 0) # Filter values greater than 0\n",
    "\n",
    "# df.loc[:, 'net_quantity':'total_sales'] # Check for update."
   ]
  },
  {
   "cell_type": "markdown",
   "metadata": {},
   "source": [
    "# `Final Checkup`."
   ]
  },
  {
   "cell_type": "markdown",
   "metadata": {},
   "source": [
    "### `Copy original Dataframe`."
   ]
  },
  {
   "cell_type": "code",
   "execution_count": 67,
   "metadata": {},
   "outputs": [
    {
     "data": {
      "text/html": [
       "<div>\n",
       "<style scoped>\n",
       "    .dataframe tbody tr th:only-of-type {\n",
       "        vertical-align: middle;\n",
       "    }\n",
       "\n",
       "    .dataframe tbody tr th {\n",
       "        vertical-align: top;\n",
       "    }\n",
       "\n",
       "    .dataframe thead th {\n",
       "        text-align: right;\n",
       "    }\n",
       "</style>\n",
       "<table border=\"1\" class=\"dataframe\">\n",
       "  <thead>\n",
       "    <tr style=\"text-align: right;\">\n",
       "      <th></th>\n",
       "      <th>customer_reference_id</th>\n",
       "      <th>item_purchased</th>\n",
       "      <th>purchase_amount_(usd)</th>\n",
       "      <th>date_purchase</th>\n",
       "      <th>review_rating</th>\n",
       "      <th>payment_method</th>\n",
       "      <th>day</th>\n",
       "      <th>month</th>\n",
       "      <th>year</th>\n",
       "      <th>quarter</th>\n",
       "      <th>quarter_label</th>\n",
       "      <th>day_month</th>\n",
       "      <th>day_year</th>\n",
       "      <th>month_year</th>\n",
       "      <th>day_month_year</th>\n",
       "      <th>month_day_year</th>\n",
       "    </tr>\n",
       "  </thead>\n",
       "  <tbody>\n",
       "    <tr>\n",
       "      <th>514</th>\n",
       "      <td>3999</td>\n",
       "      <td>Sunglasses</td>\n",
       "      <td>23.0</td>\n",
       "      <td>2023-01-02</td>\n",
       "      <td>1.0</td>\n",
       "      <td>Cash</td>\n",
       "      <td>Monday</td>\n",
       "      <td>January</td>\n",
       "      <td>2023</td>\n",
       "      <td>2023Q1</td>\n",
       "      <td>Q1</td>\n",
       "      <td>Mon_Jan</td>\n",
       "      <td>Mon_2023</td>\n",
       "      <td>Jan_2023</td>\n",
       "      <td>Mon_Jan_2023</td>\n",
       "      <td>Jan_Mon_2023</td>\n",
       "    </tr>\n",
       "    <tr>\n",
       "      <th>2021</th>\n",
       "      <td>4005</td>\n",
       "      <td>Onesie</td>\n",
       "      <td>50.0</td>\n",
       "      <td>2023-05-25</td>\n",
       "      <td>4.0</td>\n",
       "      <td>Cash</td>\n",
       "      <td>Thursday</td>\n",
       "      <td>May</td>\n",
       "      <td>2023</td>\n",
       "      <td>2023Q2</td>\n",
       "      <td>Q2</td>\n",
       "      <td>Thu_May</td>\n",
       "      <td>Thu_2023</td>\n",
       "      <td>May_2023</td>\n",
       "      <td>Thu_May_2023</td>\n",
       "      <td>May_Thu_2023</td>\n",
       "    </tr>\n",
       "    <tr>\n",
       "      <th>2603</th>\n",
       "      <td>4113</td>\n",
       "      <td>Shorts</td>\n",
       "      <td>163.0</td>\n",
       "      <td>2023-06-26</td>\n",
       "      <td>4.0</td>\n",
       "      <td>Cash</td>\n",
       "      <td>Monday</td>\n",
       "      <td>June</td>\n",
       "      <td>2023</td>\n",
       "      <td>2023Q2</td>\n",
       "      <td>Q2</td>\n",
       "      <td>Mon_Jun</td>\n",
       "      <td>Mon_2023</td>\n",
       "      <td>Jun_2023</td>\n",
       "      <td>Mon_Jun_2023</td>\n",
       "      <td>Jun_Mon_2023</td>\n",
       "    </tr>\n",
       "  </tbody>\n",
       "</table>\n",
       "</div>"
      ],
      "text/plain": [
       "     customer_reference_id item_purchased  purchase_amount_(usd)  \\\n",
       "514                   3999     Sunglasses                   23.0   \n",
       "2021                  4005         Onesie                   50.0   \n",
       "2603                  4113         Shorts                  163.0   \n",
       "\n",
       "     date_purchase  review_rating payment_method       day    month  year  \\\n",
       "514     2023-01-02            1.0           Cash    Monday  January  2023   \n",
       "2021    2023-05-25            4.0           Cash  Thursday      May  2023   \n",
       "2603    2023-06-26            4.0           Cash    Monday     June  2023   \n",
       "\n",
       "     quarter quarter_label day_month  day_year month_year day_month_year  \\\n",
       "514   2023Q1            Q1   Mon_Jan  Mon_2023   Jan_2023   Mon_Jan_2023   \n",
       "2021  2023Q2            Q2   Thu_May  Thu_2023   May_2023   Thu_May_2023   \n",
       "2603  2023Q2            Q2   Mon_Jun  Mon_2023   Jun_2023   Mon_Jun_2023   \n",
       "\n",
       "     month_day_year  \n",
       "514    Jan_Mon_2023  \n",
       "2021   May_Thu_2023  \n",
       "2603   Jun_Mon_2023  "
      ]
     },
     "execution_count": 67,
     "metadata": {},
     "output_type": "execute_result"
    }
   ],
   "source": [
    "df = df.copy()\n",
    "df.sample(3)"
   ]
  },
  {
   "cell_type": "markdown",
   "metadata": {},
   "source": [
    "### `Display Datframe statistics`."
   ]
  },
  {
   "cell_type": "code",
   "execution_count": 68,
   "metadata": {},
   "outputs": [
    {
     "data": {
      "text/html": [
       "<div>\n",
       "<style scoped>\n",
       "    .dataframe tbody tr th:only-of-type {\n",
       "        vertical-align: middle;\n",
       "    }\n",
       "\n",
       "    .dataframe tbody tr th {\n",
       "        vertical-align: top;\n",
       "    }\n",
       "\n",
       "    .dataframe thead th {\n",
       "        text-align: right;\n",
       "    }\n",
       "</style>\n",
       "<table border=\"1\" class=\"dataframe\">\n",
       "  <thead>\n",
       "    <tr style=\"text-align: right;\">\n",
       "      <th></th>\n",
       "      <th>purchase_amount_(usd)</th>\n",
       "      <th>date_purchase</th>\n",
       "      <th>review_rating</th>\n",
       "    </tr>\n",
       "  </thead>\n",
       "  <tbody>\n",
       "    <tr>\n",
       "      <th>count</th>\n",
       "      <td>3400.000000</td>\n",
       "      <td>3400</td>\n",
       "      <td>3400.000000</td>\n",
       "    </tr>\n",
       "    <tr>\n",
       "      <th>mean</th>\n",
       "      <td>147.127353</td>\n",
       "      <td>2023-04-01 01:40:22.588235520</td>\n",
       "      <td>2.993529</td>\n",
       "    </tr>\n",
       "    <tr>\n",
       "      <th>min</th>\n",
       "      <td>10.000000</td>\n",
       "      <td>2022-10-02 00:00:00</td>\n",
       "      <td>1.000000</td>\n",
       "    </tr>\n",
       "    <tr>\n",
       "      <th>25%</th>\n",
       "      <td>63.000000</td>\n",
       "      <td>2022-12-31 00:00:00</td>\n",
       "      <td>2.000000</td>\n",
       "    </tr>\n",
       "    <tr>\n",
       "      <th>50%</th>\n",
       "      <td>108.500000</td>\n",
       "      <td>2023-04-03 00:00:00</td>\n",
       "      <td>3.000000</td>\n",
       "    </tr>\n",
       "    <tr>\n",
       "      <th>75%</th>\n",
       "      <td>151.000000</td>\n",
       "      <td>2023-07-02 00:00:00</td>\n",
       "      <td>4.000000</td>\n",
       "    </tr>\n",
       "    <tr>\n",
       "      <th>max</th>\n",
       "      <td>4932.000000</td>\n",
       "      <td>2023-10-01 00:00:00</td>\n",
       "      <td>5.000000</td>\n",
       "    </tr>\n",
       "    <tr>\n",
       "      <th>std</th>\n",
       "      <td>378.173982</td>\n",
       "      <td>NaN</td>\n",
       "      <td>1.171880</td>\n",
       "    </tr>\n",
       "  </tbody>\n",
       "</table>\n",
       "</div>"
      ],
      "text/plain": [
       "       purchase_amount_(usd)                  date_purchase  review_rating\n",
       "count            3400.000000                           3400    3400.000000\n",
       "mean              147.127353  2023-04-01 01:40:22.588235520       2.993529\n",
       "min                10.000000            2022-10-02 00:00:00       1.000000\n",
       "25%                63.000000            2022-12-31 00:00:00       2.000000\n",
       "50%               108.500000            2023-04-03 00:00:00       3.000000\n",
       "75%               151.000000            2023-07-02 00:00:00       4.000000\n",
       "max              4932.000000            2023-10-01 00:00:00       5.000000\n",
       "std               378.173982                            NaN       1.171880"
      ]
     },
     "execution_count": 68,
     "metadata": {},
     "output_type": "execute_result"
    }
   ],
   "source": [
    "df.describe()"
   ]
  },
  {
   "cell_type": "markdown",
   "metadata": {},
   "source": [
    "# `Save modified DataFrame to Downloads Folder`."
   ]
  },
  {
   "cell_type": "markdown",
   "metadata": {},
   "source": [
    "#### `As Excel`."
   ]
  },
  {
   "cell_type": "code",
   "execution_count": 69,
   "metadata": {},
   "outputs": [],
   "source": [
    "# output_file_path = r\"\\Users\\tailb\\Downloads\\Fashion_Retail_Sales_Modified.xlsx\"\n",
    "\n",
    "# df.to_excel(output_file_path, index=False)\n",
    "\n",
    "# print(\"Modified Excel saved to:\", output_file_path)"
   ]
  },
  {
   "cell_type": "markdown",
   "metadata": {},
   "source": [
    "#### `As CSV`."
   ]
  },
  {
   "cell_type": "code",
   "execution_count": 70,
   "metadata": {},
   "outputs": [
    {
     "name": "stdout",
     "output_type": "stream",
     "text": [
      "Modified CSV file saved to: \\Users\\tailb\\Downloads\\Fashion_Retail_Sales_Modified.csv\n"
     ]
    }
   ],
   "source": [
    "output_file_path = r\"\\Users\\tailb\\Downloads\\Fashion_Retail_Sales_Modified.csv\"\n",
    "\n",
    "df.to_csv(output_file_path, index=False)\n",
    "\n",
    "print(\"Modified CSV file saved to:\", output_file_path)"
   ]
  },
  {
   "cell_type": "markdown",
   "metadata": {},
   "source": [
    "# `Save modified DataFrame to PostgreSQL Downloads Folder`."
   ]
  },
  {
   "cell_type": "markdown",
   "metadata": {},
   "source": [
    "#### `As Excel`."
   ]
  },
  {
   "cell_type": "code",
   "execution_count": 71,
   "metadata": {},
   "outputs": [],
   "source": [
    "# os.makedirs(r\"\\Users\\tailb\\Data Science\\SQL_Projects\\PostgreSQL\\Downloads\\SQL Files\\Fashion_Retail_Sales_Data\\excel files\", exist_ok=True)\n",
    "\n",
    "# output_file_path = r\"\\Users\\tailb\\Data Science\\SQL_Projects\\PostgreSQL\\Downloads\\SQL Files\\Fashion_Retail_Sales_Data\\excel files\\Fashion_Retail_Sales_Modified.xlsx\"\n",
    "\n",
    "# df.to_excel(output_file_path, index=False)\n",
    "\n",
    "# print(\"Modified Excel file saved to:\", output_file_path) "
   ]
  },
  {
   "cell_type": "markdown",
   "metadata": {},
   "source": [
    "#### `As CSV`."
   ]
  },
  {
   "cell_type": "code",
   "execution_count": 72,
   "metadata": {},
   "outputs": [
    {
     "name": "stdout",
     "output_type": "stream",
     "text": [
      "Modified CSV file saved to: \\Users\\tailb\\Data Science\\SQL_Projects\\PostgreSQL\\Downloads\\SQL Files\\Fashion_Retail_Sales_Data\\csv files\\Fashion_Retail_Sales_Modified.csv\n"
     ]
    }
   ],
   "source": [
    "os.makedirs(r\"\\Users\\tailb\\Data Science\\SQL_Projects\\PostgreSQL\\Downloads\\SQL Files\\Fashion_Retail_Sales_Data\\csv files\", exist_ok=True)\n",
    "\n",
    "output_file_path = r\"\\Users\\tailb\\Data Science\\SQL_Projects\\PostgreSQL\\Downloads\\SQL Files\\Fashion_Retail_Sales_Data\\csv files\\Fashion_Retail_Sales_Modified.csv\"\n",
    "\n",
    "df.to_csv(output_file_path, index=False)\n",
    "\n",
    "print(\"Modified CSV file saved to:\", output_file_path) "
   ]
  }
 ],
 "metadata": {
  "kernelspec": {
   "display_name": "Vernyuy",
   "language": "python",
   "name": "python3"
  },
  "language_info": {
   "codemirror_mode": {
    "name": "ipython",
    "version": 3
   },
   "file_extension": ".py",
   "mimetype": "text/x-python",
   "name": "python",
   "nbconvert_exporter": "python",
   "pygments_lexer": "ipython3",
   "version": "3.12.1"
  }
 },
 "nbformat": 4,
 "nbformat_minor": 2
}
